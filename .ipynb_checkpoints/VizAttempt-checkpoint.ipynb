{
 "cells": [
  {
   "cell_type": "code",
   "execution_count": null,
   "id": "02929c00-6cbf-4aef-b24d-b065f1957ddd",
   "metadata": {},
   "outputs": [],
   "source": [
    "%%javascript\n",
    "IPython.OutputArea.auto_scroll_threshold = 9999;"
   ]
  },
  {
   "cell_type": "code",
   "execution_count": 8,
   "id": "3d744710-911f-48a9-9323-0755ae9ab95b",
   "metadata": {},
   "outputs": [],
   "source": [
    "# another cell\n",
    "import matplotlib.pyplot as plt\n",
    "%matplotlib inline"
   ]
  },
  {
   "cell_type": "code",
   "execution_count": 74,
   "id": "9270d968-5b99-4202-9c10-73cd77163c02",
   "metadata": {},
   "outputs": [],
   "source": [
    "import pickle\n",
    "import matplotlib.image as img\n",
    "import os\n",
    "import numpy as np"
   ]
  },
  {
   "cell_type": "code",
   "execution_count": 69,
   "id": "09fdf7df-2556-4160-9fe8-e76e88547ac8",
   "metadata": {},
   "outputs": [],
   "source": [
    "ImagesDir = 'nil_img/'\n",
    "imageFiles = [file for file in os.listdir(ImagesDir)]"
   ]
  },
  {
   "cell_type": "code",
   "execution_count": 77,
   "id": "69b4bd78-bd67-4bfd-8e33-91d67666db18",
   "metadata": {},
   "outputs": [],
   "source": [
    "ims = []\n",
    "for i in range(len(imageFiles)):\n",
    "    imageFile = imageFiles[i]\n",
    "    image = ImagesDir + imageFile\n",
    "    im = img.imread(image)\n",
    "    ims.append(im)"
   ]
  },
  {
   "cell_type": "code",
   "execution_count": 82,
   "id": "41e129d4-5a67-4375-afa7-224cb338311a",
   "metadata": {},
   "outputs": [],
   "source": [
    "ims_array = np.array(ims)"
   ]
  },
  {
   "cell_type": "code",
   "execution_count": 84,
   "id": "dbb5493d-bf70-4e0e-9465-b32fc80b7c39",
   "metadata": {},
   "outputs": [
    {
     "data": {
      "text/plain": [
       "(168, 187, 475, 4)"
      ]
     },
     "execution_count": 84,
     "metadata": {},
     "output_type": "execute_result"
    }
   ],
   "source": [
    "ims_array.shape"
   ]
  },
  {
   "cell_type": "code",
   "execution_count": 85,
   "id": "58707f2a-9114-4af4-8dfa-318307970b8b",
   "metadata": {},
   "outputs": [],
   "source": [
    "# Write to file.\n",
    "file = open(\"nilearnimages.pkl\", \"wb\")\n",
    "pickle.dump(ims_array, file)\n",
    "file.close()"
   ]
  },
  {
   "cell_type": "code",
   "execution_count": 58,
   "id": "11f45cd0-0e28-403a-93ed-84f34abb8bc5",
   "metadata": {
    "collapsed": true,
    "jupyter": {
     "outputs_hidden": true
    },
    "tags": []
   },
   "outputs": [
    {
     "data": {
      "application/vnd.plotly.v1+json": {
       "config": {
        "plotlyServerURL": "https://plot.ly"
       },
       "data": [
        {
         "hovertemplate": "<b>%{hovertext}</b><br><br>R=%{x}<br>A=%{y}<br>S=%{z}<br>EV=%{marker.color}<extra></extra>",
         "hovertext": [
          "Left-Lateral-Ventricle",
          "Left-Inf-Lat-Vent",
          "Left-Cerebellum-White-Matter",
          "Left-Cerebellum-Cortex",
          "Left-Caudate",
          "Left-Putamen",
          "Left-Pallidum",
          "3rd-Ventricle",
          "4th-Ventricle",
          "Brain-Stem",
          "Left-Hippocampus",
          "Left-Amygdala",
          "CSF",
          "Left-Accumbens-area",
          "Left-VentralDC",
          "Left-vessel",
          "Left-choroid-plexus",
          "Right-Lateral-Ventricle",
          "Right-Inf-Lat-Vent",
          "Right-Cerebellum-White-Matter",
          "Right-Cerebellum-Cortex",
          "Right-Caudate",
          "Right-Putamen",
          "Right-Pallidum",
          "Right-Hippocampus",
          "Right-Amygdala",
          "Right-Accumbens-area",
          "Right-VentralDC",
          "Right-vessel",
          "Right-choroid-plexus",
          "lh_G&S_frontomargin",
          "lh_G&S_occipital_inf",
          "lh_G&S_paracentral",
          "lh_G&S_subcentral",
          "lh_G&S_transv_frontopol",
          "lh_G&S_cingul-Ant",
          "lh_G&S_cingul-Mid-Ant",
          "lh_G&S_cingul-Mid-Post",
          "lh_G_cingul-Post-dorsal",
          "lh_G_cingul-Post-ventral",
          "lh_G_cuneus",
          "lh_G_front_inf-Opercular",
          "lh_G_front_inf-Orbital",
          "lh_G_front_inf-Triangul",
          "lh_G_front_middle",
          "lh_G_front_sup",
          "lh_G_insular_short",
          "lh_G_occipital_middle",
          "lh_G_occipital_sup",
          "lh_G_oc-temp_lat-fusifor",
          "lh_G_oc-temp_med-Lingual",
          "lh_G_oc-temp_med-Parahip",
          "lh_G_orbital",
          "lh_G_pariet_inf-Angular",
          "lh_G_pariet_inf-Supramar",
          "lh_G_parietal_sup",
          "lh_G_postcentral",
          "lh_G_precentral",
          "lh_G_precuneus",
          "lh_G_rectus",
          "lh_G_subcallosal",
          "lh_G_temp_sup-G_T_transv",
          "lh_G_temp_sup-Lateral",
          "lh_G_temp_sup-Plan_polar",
          "lh_G_temp_sup-Plan_tempo",
          "lh_G_temporal_inf",
          "lh_G_temporal_middle",
          "lh_Lat_Fis-ant-Horizont",
          "lh_Lat_Fis-ant-Vertical",
          "lh_Lat_Fis-post",
          "lh_Pole_occipital",
          "lh_Pole_temporal",
          "lh_S_calcarine",
          "lh_S_central",
          "lh_S_cingul-Marginalis",
          "lh_S_circular_insula_ant",
          "lh_S_circular_insula_inf",
          "lh_S_circular_insula_sup",
          "lh_S_collat_transv_ant",
          "lh_S_collat_transv_post",
          "lh_S_front_inf",
          "lh_S_front_middle",
          "lh_S_front_sup",
          "lh_S_interm_prim-Jensen",
          "lh_S_occipital_ant",
          "lh_S_oc-temp_lat",
          "lh_S_orbital_lateral",
          "lh_S_orbital_med-olfact",
          "lh_S_orbital-H_Shaped",
          "lh_S_parieto_occipital",
          "lh_S_pericallosal",
          "lh_S_postcentral",
          "lh_S_precentral-inf-part",
          "lh_S_precentral-sup-part",
          "lh_S_suborbital",
          "lh_S_subparietal",
          "lh_S_temporal_inf",
          "lh_S_temporal_sup",
          "lh_S_temporal_transverse",
          "rh_G&S_frontomargin",
          "rh_G&S_occipital_inf",
          "rh_G&S_paracentral",
          "rh_G&S_subcentral",
          "rh_G&S_transv_frontopol",
          "rh_G&S_cingul-Ant",
          "rh_G&S_cingul-Mid-Ant",
          "rh_G&S_cingul-Mid-Post",
          "rh_G_cingul-Post-dorsal",
          "rh_G_cingul-Post-ventral",
          "rh_G_cuneus",
          "rh_G_front_inf-Opercular",
          "rh_G_front_inf-Orbital",
          "rh_G_front_inf-Triangul",
          "rh_G_front_middle",
          "rh_G_front_sup",
          "rh_G_insular_short",
          "rh_G_occipital_middle",
          "rh_G_occipital_sup",
          "rh_G_oc-temp_lat-fusifor",
          "rh_G_oc-temp_med-Lingual",
          "rh_G_oc-temp_med-Parahip",
          "rh_G_orbital",
          "rh_G_pariet_inf-Angular",
          "rh_G_pariet_inf-Supramar",
          "rh_G_parietal_sup",
          "rh_G_postcentral",
          "rh_G_precentral",
          "rh_G_precuneus",
          "rh_G_rectus",
          "rh_G_subcallosal",
          "rh_G_temp_sup-G_T_transv",
          "rh_G_temp_sup-Lateral",
          "rh_G_temp_sup-Plan_polar",
          "rh_G_temp_sup-Plan_tempo",
          "rh_G_temporal_inf",
          "rh_G_temporal_middle",
          "rh_Lat_Fis-ant-Horizont",
          "rh_Lat_Fis-ant-Vertical",
          "rh_Lat_Fis-post",
          "rh_Pole_occipital",
          "rh_Pole_temporal",
          "rh_S_calcarine",
          "rh_S_central",
          "rh_S_cingul-Marginalis",
          "rh_S_circular_insula_ant",
          "rh_S_circular_insula_inf",
          "rh_S_circular_insula_sup",
          "rh_S_collat_transv_ant",
          "rh_S_collat_transv_post",
          "rh_S_front_inf",
          "rh_S_front_middle",
          "rh_S_front_sup",
          "rh_S_interm_prim-Jensen",
          "rh_S_occipital_ant",
          "rh_S_oc-temp_lat",
          "rh_S_orbital_lateral",
          "rh_S_orbital_med-olfact",
          "rh_S_orbital-H_Shaped",
          "rh_S_parieto_occipital",
          "rh_S_pericallosal",
          "rh_S_postcentral",
          "rh_S_precentral-inf-part",
          "rh_S_precentral-sup-part",
          "rh_S_suborbital",
          "rh_S_subparietal",
          "rh_S_temporal_inf",
          "rh_S_temporal_sup",
          "rh_S_temporal_transverse"
         ],
         "legendgroup": "",
         "marker": {
          "color": [
           0.3984465963686576,
           0.3000624333992208,
           0.3096380012146593,
           0.3352594737622548,
           0.3211006872038824,
           0.4579304218493293,
           0.4157025860706883,
           0.4736761190075362,
           0.0928843292144958,
           0.3706073506082036,
           0.2629195559291262,
           0.2808792228320872,
           0.279057827915565,
           0.601569970013089,
           0.3177364680231317,
           0.1684373724503133,
           0.5992924973780571,
           0.4115499745100739,
           0.2536623698793424,
           0.2898926292376851,
           0.3239539249855246,
           0.3258157483785281,
           0.4342934428423571,
           0.3465295009122061,
           0.2548758365307789,
           0.2909010220527734,
           0.4157988101243802,
           0.3261675396050094,
           0.2414096408474082,
           0.6772416808837689,
           0.2712323834121383,
           0.2102933942569126,
           0.2121484786074715,
           0.2612463994168431,
           0.254489791028797,
           0.2769871352563131,
           0.2293766258772991,
           0.3331469332849968,
           0.2956137478094726,
           0.3463151478775494,
           0.3947371815158184,
           0.3197461326901586,
           0.2733100437814253,
           0.3534770524179245,
           0.3914081640697551,
           0.3946820912935856,
           0.1162866108897898,
           0.2302569050957623,
           0.2202057723540496,
           0.2554352190332647,
           0.4853153641777251,
           0.1381604965136125,
           0.3165687200512088,
           0.372458452897611,
           0.3374120019308309,
           0.3534210245628455,
           0.2218402934342997,
           0.2327613175494214,
           0.3419298979346118,
           0.2444894851406152,
           0.2293874604104043,
           0.2380478328034081,
           0.2325445529596411,
           0.1414838330344296,
           0.2545343354233308,
           0.2889051261895672,
           0.2859664018124653,
           0.1623950708795619,
           0.2133205828180434,
           0.3047013381608242,
           0.1466326246037769,
           0.1830264782416378,
           0.5103193687446088,
           0.2964148617343849,
           0.3627189383014743,
           0.2266613820877113,
           0.2789433801445243,
           0.3939602851166105,
           0.1074633303136258,
           0.1870208535847312,
           0.4186434589350115,
           0.388391890946991,
           0.4321563492372087,
           0.1591208543942418,
           0.1882782862813103,
           0.1930931140494535,
           0.2415291215372165,
           0.2049261171488891,
           0.3508703958956656,
           0.376188248119842,
           0.1031385275617619,
           0.4126546267941269,
           0.363306544733261,
           0.2942109874725812,
           0.1258547475317001,
           0.2854850569334689,
           0.2013186908067307,
           0.4083929585634609,
           0.1317384659372245,
           0.267450818734567,
           0.123256637343534,
           0.2060935405805296,
           0.2480422197218245,
           0.2912248765022015,
           0.355438559039132,
           0.2545873056171897,
           0.3076162832911963,
           0.2982185972738599,
           0.2488087034028987,
           0.5030811256196004,
           0.3274286591230948,
           0.2542141295254332,
           0.3454004440511702,
           0.3885375593861482,
           0.3816997462614688,
           0.13199610324875,
           0.2542989617355219,
           0.2609532668599255,
           0.1980609195323081,
           0.5431794518603543,
           0.148397005153435,
           0.2905967659584425,
           0.3312002549292525,
           0.3217352103072578,
           0.3406852529353056,
           0.2021176136371691,
           0.2113718528003562,
           0.3338243248953234,
           0.2104547826759399,
           0.1065041092334165,
           0.2060196691767332,
           0.2477459319833121,
           0.1456450127025979,
           0.2704669644341225,
           0.2520403420533375,
           0.3119142490306856,
           0.2243432480552636,
           0.166592526771496,
           0.3266037050417834,
           0.1939695812991764,
           0.1677246749718323,
           0.507141864873845,
           0.2916186213502316,
           0.3595006762987446,
           0.2058862488865666,
           0.2646606959609201,
           0.3823921962499047,
           0.1446948532619609,
           0.1965118312694491,
           0.4121637383620558,
           0.4265246057276656,
           0.4151155218081146,
           0.2540897800845741,
           0.166821620095207,
           0.1659098660419264,
           0.29133284162899,
           0.2444835533860258,
           0.3852519844718942,
           0.3448380915614671,
           0.1028915957724043,
           0.387700694353975,
           0.3266863452842812,
           0.2564990815661748,
           0.1081214042185211,
           0.2743446851605278,
           0.1798968159664423,
           0.4148900517414247,
           0.1381668171525477
          ],
          "coloraxis": "coloraxis",
          "opacity": 0.7,
          "symbol": "circle"
         },
         "mode": "markers",
         "name": "",
         "scene": "scene",
         "showlegend": false,
         "type": "scatter3d",
         "x": [
          -14.4557,
          -33.9069,
          -17.3054,
          -22.2658,
          -15.0342,
          -26.3662,
          -20.9167,
          0.5832,
          0.5414,
          0.8274,
          -26.0885,
          -23.9093,
          0.6027,
          -9.6298,
          -11.4566,
          -28.5455,
          -12.5026,
          15.1816,
          33.1019,
          19.0709,
          23.6529,
          16.1594,
          26.9446,
          22.1053,
          27.7436,
          24.9425,
          9.9868,
          12.4342,
          30.5581,
          12.0086,
          -23.1251,
          -37.2018,
          -7.9944,
          -55.8942,
          -14.2706,
          -7.7783,
          -7.2655,
          -7.1176,
          -3.7206,
          -7.5337,
          -5.2448,
          -49.8475,
          -43.6314,
          -49.6582,
          -35.747,
          -9.8816,
          -37.1827,
          -39.597,
          -14.6553,
          -34.6236,
          -10.7537,
          -23.5743,
          -27.2398,
          -42.5073,
          -55.7925,
          -21.0506,
          -44.7402,
          -42.3603,
          -6.1559,
          -4.7514,
          -4.3878,
          -47.7364,
          -57.4998,
          -39.943,
          -57.5532,
          -51.128,
          -59.7574,
          -39.0511,
          -43.736,
          -40.6452,
          -18.7681,
          -33.8886,
          -15.7554,
          -36.5072,
          -13.2361,
          -30.5266,
          -41.0366,
          -36.1574,
          -40.796,
          -25.0798,
          -39.5856,
          -27.3377,
          -23.7145,
          -51.2464,
          -43.0102,
          -43.2079,
          -41.2287,
          -12.07,
          -25.707,
          -15.1186,
          -4.4078,
          -38.27,
          -44.5104,
          -28.9046,
          -6.9567,
          -9.6541,
          -52.9245,
          -49.8609,
          -51,
          21.2278,
          41.3785,
          6.8935,
          56.3936,
          16.3126,
          8.5277,
          7.67,
          6.8961,
          3.7861,
          8.1356,
          6.3039,
          50.8304,
          48.4311,
          51.924,
          37.241,
          10.2659,
          38.6089,
          40.8287,
          18.9942,
          33.8612,
          11.3852,
          25.5473,
          27.7573,
          45.5102,
          57.5147,
          21.6948,
          44.2217,
          42.3899,
          6.4769,
          5.4131,
          5.0668,
          48.8354,
          59.6211,
          42.3807,
          58.7242,
          53.1427,
          61.3127,
          41.598,
          46.2786,
          40.4023,
          18.1044,
          37.2429,
          17.3563,
          36.4714,
          12.4069,
          32.3848,
          42.5558,
          37.0395,
          42.8538,
          26.264,
          39.9658,
          28.8744,
          24.0608,
          50.0788,
          43.9854,
          44.1098,
          43.429,
          12.9365,
          25.9679,
          16.7747,
          5.5137,
          37.3295,
          43.7165,
          27.3901,
          6.8615,
          9.1647,
          53.5491,
          50.5513,
          53.0349
         ],
         "y": [
          -13.6935,
          -22.2847,
          -53.4316,
          -64.3663,
          9.4376,
          -0.1569,
          -5.1887,
          -11.117,
          -46.5624,
          -31.9463,
          -24.4296,
          -7.3395,
          -20.7054,
          10.9602,
          -16.8469,
          -3.2,
          -12.218,
          -13.2417,
          -17.9214,
          -53.5137,
          -64.4168,
          9.4585,
          0.5477,
          -4.939,
          -23.3794,
          -6.0108,
          10.424,
          -16.4125,
          -2.5814,
          -11.022,
          56.7958,
          -82.6295,
          -33.1159,
          -11.3545,
          63.5673,
          38.9848,
          16.0669,
          -11.6682,
          -38.2292,
          -48.8825,
          -81.9967,
          11.5337,
          30.9509,
          30.0638,
          33.1098,
          26.3029,
          9.0123,
          -83.6257,
          -88.777,
          -53.8229,
          -71.924,
          -17.2485,
          35.5644,
          -67.3401,
          -36.7359,
          -60,
          -24.6631,
          -9.2686,
          -58.2415,
          39.3837,
          13.9366,
          -19.1462,
          -10.6316,
          5.3878,
          -37.7426,
          -33.8554,
          -30.051,
          31.4562,
          21.1781,
          -33.2763,
          -98.0764,
          6.7044,
          -65.7797,
          -19.8462,
          -36.5753,
          20.6759,
          -11.7168,
          5.3773,
          -22.5175,
          -78.5924,
          23.4187,
          43.5,
          19.6477,
          -52.715,
          -69.1141,
          -51.3559,
          42.4769,
          25.5372,
          36.2054,
          -67.8952,
          -0.2915,
          -35.1022,
          3.9463,
          -8.46,
          39.6215,
          -48.4108,
          -35.2661,
          -40.9534,
          -25.3276,
          57.8432,
          -78.626,
          -32.8405,
          -9.9829,
          63.2224,
          38.6647,
          16.5685,
          -10.2923,
          -38.2181,
          -50.609,
          -78.9931,
          9.2072,
          33.0299,
          28.6687,
          33.6232,
          28.1423,
          10.1184,
          -80.812,
          -84.885,
          -51.8256,
          -66.4634,
          -15.1787,
          35.1705,
          -62.18,
          -32.1809,
          -56.3044,
          -23.7366,
          -7.8249,
          -59.9843,
          34.7985,
          13.8114,
          -16.781,
          -9.3856,
          6.2392,
          -31.91,
          -31.9381,
          -27.9987,
          28.5267,
          20.7,
          -27.3183,
          -95.485,
          7.7964,
          -63.3242,
          -18.6575,
          -36.0269,
          22.0633,
          -10.5773,
          6.7203,
          -21.6591,
          -78.3,
          25.6634,
          42.5388,
          19.3358,
          -44.3818,
          -66.3889,
          -50.1488,
          40.4972,
          25.0338,
          35.7216,
          -66.7137,
          -0.6535,
          -32.9907,
          5.7394,
          -7.7737,
          39.9108,
          -48.5168,
          -33.8282,
          -37.0735,
          -21.3815
         ],
         "z": [
          13.7137,
          -15.8212,
          -36.0172,
          -37.6748,
          6.9134,
          -2.0915,
          -2.4108,
          -3.9433,
          -33.2182,
          -31.0038,
          -15.1489,
          -20.6358,
          8.0407,
          -8.7866,
          -10.3269,
          -10.1818,
          6.3055,
          14.2578,
          -16.9809,
          -35.6734,
          -37.1952,
          8.2391,
          -2.2491,
          -1.954,
          -14.995,
          -20.7379,
          -8.7054,
          -10.0567,
          -10.4419,
          7.3672,
          -8.8575,
          -13.1777,
          67.397,
          14.5476,
          -0.6889,
          9.0119,
          34.2914,
          40.5827,
          30.6738,
          6.368,
          17.0077,
          9.0836,
          -10.276,
          4.7465,
          31.8311,
          45.3459,
          -3.7319,
          11.7755,
          27.3987,
          -19.7188,
          -5.4271,
          -27.3776,
          -17.7082,
          36.7981,
          30.9234,
          58.3399,
          53.214,
          50.1121,
          40.158,
          -20.2318,
          -10.0195,
          5.724,
          -6.8325,
          -21.7421,
          15.8241,
          -27.151,
          -13.818,
          -3.281,
          6.9506,
          16.6855,
          -3.7502,
          -37.8935,
          4.3414,
          45.0357,
          46.5387,
          -10.1728,
          -7.5982,
          10.2139,
          -27.0101,
          -8.7521,
          20.783,
          19.8966,
          44.016,
          30.8309,
          0.3299,
          -15.2207,
          -2.7372,
          -19.7779,
          -13.8749,
          22.7639,
          17.734,
          45.0907,
          26.7478,
          52.2209,
          -10.6422,
          35.1315,
          -17.6773,
          3.242,
          3.5501,
          -10.3605,
          -12.0294,
          67.312,
          15.4265,
          1.2483,
          7.4681,
          35.1832,
          41.6171,
          31.7797,
          7.3923,
          18.7983,
          8.0672,
          -7.6527,
          8.2459,
          31.3429,
          44.9265,
          -2.9565,
          14.3411,
          32.0536,
          -19.0918,
          -4.2247,
          -28.134,
          -17.8274,
          38.761,
          31.5709,
          60.9097,
          54.0854,
          49.6349,
          42.4628,
          -20.9867,
          -11.8605,
          5.5635,
          -5.5205,
          -20.38,
          16.672,
          -27.075,
          -13.4806,
          1.7506,
          8.3179,
          17.3162,
          -2.6473,
          -37.3216,
          5.1179,
          45.3375,
          46.6829,
          -7.7903,
          -7.4966,
          9.5104,
          -26.6108,
          -9.084,
          20.813,
          20.4978,
          45.4579,
          31.7636,
          3.5906,
          -15.5087,
          -2.804,
          -19.0911,
          -14.4277,
          24.1158,
          18.6849,
          46.6787,
          27.837,
          53.4533,
          -13.4156,
          36.0975,
          -16.9948,
          2.3295,
          5.7481
         ]
        }
       ],
       "layout": {
        "coloraxis": {
         "colorbar": {
          "title": {
           "text": "EV"
          },
          "x": -0.15,
          "y": 0.5
         },
         "colorscale": [
          [
           0,
           "#0d0887"
          ],
          [
           0.1111111111111111,
           "#46039f"
          ],
          [
           0.2222222222222222,
           "#7201a8"
          ],
          [
           0.3333333333333333,
           "#9c179e"
          ],
          [
           0.4444444444444444,
           "#bd3786"
          ],
          [
           0.5555555555555556,
           "#d8576b"
          ],
          [
           0.6666666666666666,
           "#ed7953"
          ],
          [
           0.7777777777777778,
           "#fb9f3a"
          ],
          [
           0.8888888888888888,
           "#fdca26"
          ],
          [
           1,
           "#f0f921"
          ]
         ]
        },
        "dragmode": "zoom",
        "height": 800,
        "legend": {
         "tracegroupgap": 0
        },
        "margin": {
         "b": 0,
         "l": 0,
         "r": 0,
         "t": 0
        },
        "scene": {
         "aspectmode": "auto",
         "aspectratio": {
          "x": 0.9514265734040757,
          "y": 1.2702732681591606,
          "z": 0.8274229527108826
         },
         "camera": {
          "center": {
           "x": 0,
           "y": 0,
           "z": 0
          },
          "eye": {
           "x": -1.636476482208995,
           "y": 0.057128014152425306,
           "z": 0.030618754726300334
          },
          "projection": {
           "type": "perspective"
          },
          "up": {
           "x": 0,
           "y": 0,
           "z": 1
          }
         },
         "domain": {
          "x": [
           0,
           1
          ],
          "y": [
           0,
           1
          ]
         },
         "dragmode": "turntable",
         "xaxis": {
          "title": {
           "text": "R"
          },
          "type": "linear"
         },
         "yaxis": {
          "title": {
           "text": "A"
          },
          "type": "linear"
         },
         "zaxis": {
          "title": {
           "text": "S"
          },
          "type": "linear"
         }
        },
        "template": {
         "data": {
          "bar": [
           {
            "error_x": {
             "color": "#2a3f5f"
            },
            "error_y": {
             "color": "#2a3f5f"
            },
            "marker": {
             "line": {
              "color": "#E5ECF6",
              "width": 0.5
             },
             "pattern": {
              "fillmode": "overlay",
              "size": 10,
              "solidity": 0.2
             }
            },
            "type": "bar"
           }
          ],
          "barpolar": [
           {
            "marker": {
             "line": {
              "color": "#E5ECF6",
              "width": 0.5
             },
             "pattern": {
              "fillmode": "overlay",
              "size": 10,
              "solidity": 0.2
             }
            },
            "type": "barpolar"
           }
          ],
          "carpet": [
           {
            "aaxis": {
             "endlinecolor": "#2a3f5f",
             "gridcolor": "white",
             "linecolor": "white",
             "minorgridcolor": "white",
             "startlinecolor": "#2a3f5f"
            },
            "baxis": {
             "endlinecolor": "#2a3f5f",
             "gridcolor": "white",
             "linecolor": "white",
             "minorgridcolor": "white",
             "startlinecolor": "#2a3f5f"
            },
            "type": "carpet"
           }
          ],
          "choropleth": [
           {
            "colorbar": {
             "outlinewidth": 0,
             "ticks": ""
            },
            "type": "choropleth"
           }
          ],
          "contour": [
           {
            "colorbar": {
             "outlinewidth": 0,
             "ticks": ""
            },
            "colorscale": [
             [
              0,
              "#0d0887"
             ],
             [
              0.1111111111111111,
              "#46039f"
             ],
             [
              0.2222222222222222,
              "#7201a8"
             ],
             [
              0.3333333333333333,
              "#9c179e"
             ],
             [
              0.4444444444444444,
              "#bd3786"
             ],
             [
              0.5555555555555556,
              "#d8576b"
             ],
             [
              0.6666666666666666,
              "#ed7953"
             ],
             [
              0.7777777777777778,
              "#fb9f3a"
             ],
             [
              0.8888888888888888,
              "#fdca26"
             ],
             [
              1,
              "#f0f921"
             ]
            ],
            "type": "contour"
           }
          ],
          "contourcarpet": [
           {
            "colorbar": {
             "outlinewidth": 0,
             "ticks": ""
            },
            "type": "contourcarpet"
           }
          ],
          "heatmap": [
           {
            "colorbar": {
             "outlinewidth": 0,
             "ticks": ""
            },
            "colorscale": [
             [
              0,
              "#0d0887"
             ],
             [
              0.1111111111111111,
              "#46039f"
             ],
             [
              0.2222222222222222,
              "#7201a8"
             ],
             [
              0.3333333333333333,
              "#9c179e"
             ],
             [
              0.4444444444444444,
              "#bd3786"
             ],
             [
              0.5555555555555556,
              "#d8576b"
             ],
             [
              0.6666666666666666,
              "#ed7953"
             ],
             [
              0.7777777777777778,
              "#fb9f3a"
             ],
             [
              0.8888888888888888,
              "#fdca26"
             ],
             [
              1,
              "#f0f921"
             ]
            ],
            "type": "heatmap"
           }
          ],
          "heatmapgl": [
           {
            "colorbar": {
             "outlinewidth": 0,
             "ticks": ""
            },
            "colorscale": [
             [
              0,
              "#0d0887"
             ],
             [
              0.1111111111111111,
              "#46039f"
             ],
             [
              0.2222222222222222,
              "#7201a8"
             ],
             [
              0.3333333333333333,
              "#9c179e"
             ],
             [
              0.4444444444444444,
              "#bd3786"
             ],
             [
              0.5555555555555556,
              "#d8576b"
             ],
             [
              0.6666666666666666,
              "#ed7953"
             ],
             [
              0.7777777777777778,
              "#fb9f3a"
             ],
             [
              0.8888888888888888,
              "#fdca26"
             ],
             [
              1,
              "#f0f921"
             ]
            ],
            "type": "heatmapgl"
           }
          ],
          "histogram": [
           {
            "marker": {
             "pattern": {
              "fillmode": "overlay",
              "size": 10,
              "solidity": 0.2
             }
            },
            "type": "histogram"
           }
          ],
          "histogram2d": [
           {
            "colorbar": {
             "outlinewidth": 0,
             "ticks": ""
            },
            "colorscale": [
             [
              0,
              "#0d0887"
             ],
             [
              0.1111111111111111,
              "#46039f"
             ],
             [
              0.2222222222222222,
              "#7201a8"
             ],
             [
              0.3333333333333333,
              "#9c179e"
             ],
             [
              0.4444444444444444,
              "#bd3786"
             ],
             [
              0.5555555555555556,
              "#d8576b"
             ],
             [
              0.6666666666666666,
              "#ed7953"
             ],
             [
              0.7777777777777778,
              "#fb9f3a"
             ],
             [
              0.8888888888888888,
              "#fdca26"
             ],
             [
              1,
              "#f0f921"
             ]
            ],
            "type": "histogram2d"
           }
          ],
          "histogram2dcontour": [
           {
            "colorbar": {
             "outlinewidth": 0,
             "ticks": ""
            },
            "colorscale": [
             [
              0,
              "#0d0887"
             ],
             [
              0.1111111111111111,
              "#46039f"
             ],
             [
              0.2222222222222222,
              "#7201a8"
             ],
             [
              0.3333333333333333,
              "#9c179e"
             ],
             [
              0.4444444444444444,
              "#bd3786"
             ],
             [
              0.5555555555555556,
              "#d8576b"
             ],
             [
              0.6666666666666666,
              "#ed7953"
             ],
             [
              0.7777777777777778,
              "#fb9f3a"
             ],
             [
              0.8888888888888888,
              "#fdca26"
             ],
             [
              1,
              "#f0f921"
             ]
            ],
            "type": "histogram2dcontour"
           }
          ],
          "mesh3d": [
           {
            "colorbar": {
             "outlinewidth": 0,
             "ticks": ""
            },
            "type": "mesh3d"
           }
          ],
          "parcoords": [
           {
            "line": {
             "colorbar": {
              "outlinewidth": 0,
              "ticks": ""
             }
            },
            "type": "parcoords"
           }
          ],
          "pie": [
           {
            "automargin": true,
            "type": "pie"
           }
          ],
          "scatter": [
           {
            "marker": {
             "colorbar": {
              "outlinewidth": 0,
              "ticks": ""
             }
            },
            "type": "scatter"
           }
          ],
          "scatter3d": [
           {
            "line": {
             "colorbar": {
              "outlinewidth": 0,
              "ticks": ""
             }
            },
            "marker": {
             "colorbar": {
              "outlinewidth": 0,
              "ticks": ""
             }
            },
            "type": "scatter3d"
           }
          ],
          "scattercarpet": [
           {
            "marker": {
             "colorbar": {
              "outlinewidth": 0,
              "ticks": ""
             }
            },
            "type": "scattercarpet"
           }
          ],
          "scattergeo": [
           {
            "marker": {
             "colorbar": {
              "outlinewidth": 0,
              "ticks": ""
             }
            },
            "type": "scattergeo"
           }
          ],
          "scattergl": [
           {
            "marker": {
             "colorbar": {
              "outlinewidth": 0,
              "ticks": ""
             }
            },
            "type": "scattergl"
           }
          ],
          "scattermapbox": [
           {
            "marker": {
             "colorbar": {
              "outlinewidth": 0,
              "ticks": ""
             }
            },
            "type": "scattermapbox"
           }
          ],
          "scatterpolar": [
           {
            "marker": {
             "colorbar": {
              "outlinewidth": 0,
              "ticks": ""
             }
            },
            "type": "scatterpolar"
           }
          ],
          "scatterpolargl": [
           {
            "marker": {
             "colorbar": {
              "outlinewidth": 0,
              "ticks": ""
             }
            },
            "type": "scatterpolargl"
           }
          ],
          "scatterternary": [
           {
            "marker": {
             "colorbar": {
              "outlinewidth": 0,
              "ticks": ""
             }
            },
            "type": "scatterternary"
           }
          ],
          "surface": [
           {
            "colorbar": {
             "outlinewidth": 0,
             "ticks": ""
            },
            "colorscale": [
             [
              0,
              "#0d0887"
             ],
             [
              0.1111111111111111,
              "#46039f"
             ],
             [
              0.2222222222222222,
              "#7201a8"
             ],
             [
              0.3333333333333333,
              "#9c179e"
             ],
             [
              0.4444444444444444,
              "#bd3786"
             ],
             [
              0.5555555555555556,
              "#d8576b"
             ],
             [
              0.6666666666666666,
              "#ed7953"
             ],
             [
              0.7777777777777778,
              "#fb9f3a"
             ],
             [
              0.8888888888888888,
              "#fdca26"
             ],
             [
              1,
              "#f0f921"
             ]
            ],
            "type": "surface"
           }
          ],
          "table": [
           {
            "cells": {
             "fill": {
              "color": "#EBF0F8"
             },
             "line": {
              "color": "white"
             }
            },
            "header": {
             "fill": {
              "color": "#C8D4E3"
             },
             "line": {
              "color": "white"
             }
            },
            "type": "table"
           }
          ]
         },
         "layout": {
          "annotationdefaults": {
           "arrowcolor": "#2a3f5f",
           "arrowhead": 0,
           "arrowwidth": 1
          },
          "autotypenumbers": "strict",
          "coloraxis": {
           "colorbar": {
            "outlinewidth": 0,
            "ticks": ""
           }
          },
          "colorscale": {
           "diverging": [
            [
             0,
             "#8e0152"
            ],
            [
             0.1,
             "#c51b7d"
            ],
            [
             0.2,
             "#de77ae"
            ],
            [
             0.3,
             "#f1b6da"
            ],
            [
             0.4,
             "#fde0ef"
            ],
            [
             0.5,
             "#f7f7f7"
            ],
            [
             0.6,
             "#e6f5d0"
            ],
            [
             0.7,
             "#b8e186"
            ],
            [
             0.8,
             "#7fbc41"
            ],
            [
             0.9,
             "#4d9221"
            ],
            [
             1,
             "#276419"
            ]
           ],
           "sequential": [
            [
             0,
             "#0d0887"
            ],
            [
             0.1111111111111111,
             "#46039f"
            ],
            [
             0.2222222222222222,
             "#7201a8"
            ],
            [
             0.3333333333333333,
             "#9c179e"
            ],
            [
             0.4444444444444444,
             "#bd3786"
            ],
            [
             0.5555555555555556,
             "#d8576b"
            ],
            [
             0.6666666666666666,
             "#ed7953"
            ],
            [
             0.7777777777777778,
             "#fb9f3a"
            ],
            [
             0.8888888888888888,
             "#fdca26"
            ],
            [
             1,
             "#f0f921"
            ]
           ],
           "sequentialminus": [
            [
             0,
             "#0d0887"
            ],
            [
             0.1111111111111111,
             "#46039f"
            ],
            [
             0.2222222222222222,
             "#7201a8"
            ],
            [
             0.3333333333333333,
             "#9c179e"
            ],
            [
             0.4444444444444444,
             "#bd3786"
            ],
            [
             0.5555555555555556,
             "#d8576b"
            ],
            [
             0.6666666666666666,
             "#ed7953"
            ],
            [
             0.7777777777777778,
             "#fb9f3a"
            ],
            [
             0.8888888888888888,
             "#fdca26"
            ],
            [
             1,
             "#f0f921"
            ]
           ]
          },
          "colorway": [
           "#636efa",
           "#EF553B",
           "#00cc96",
           "#ab63fa",
           "#FFA15A",
           "#19d3f3",
           "#FF6692",
           "#B6E880",
           "#FF97FF",
           "#FECB52"
          ],
          "font": {
           "color": "#2a3f5f"
          },
          "geo": {
           "bgcolor": "white",
           "lakecolor": "white",
           "landcolor": "#E5ECF6",
           "showlakes": true,
           "showland": true,
           "subunitcolor": "white"
          },
          "hoverlabel": {
           "align": "left"
          },
          "hovermode": "closest",
          "mapbox": {
           "style": "light"
          },
          "paper_bgcolor": "white",
          "plot_bgcolor": "#E5ECF6",
          "polar": {
           "angularaxis": {
            "gridcolor": "white",
            "linecolor": "white",
            "ticks": ""
           },
           "bgcolor": "#E5ECF6",
           "radialaxis": {
            "gridcolor": "white",
            "linecolor": "white",
            "ticks": ""
           }
          },
          "scene": {
           "xaxis": {
            "backgroundcolor": "#E5ECF6",
            "gridcolor": "white",
            "gridwidth": 2,
            "linecolor": "white",
            "showbackground": true,
            "ticks": "",
            "zerolinecolor": "white"
           },
           "yaxis": {
            "backgroundcolor": "#E5ECF6",
            "gridcolor": "white",
            "gridwidth": 2,
            "linecolor": "white",
            "showbackground": true,
            "ticks": "",
            "zerolinecolor": "white"
           },
           "zaxis": {
            "backgroundcolor": "#E5ECF6",
            "gridcolor": "white",
            "gridwidth": 2,
            "linecolor": "white",
            "showbackground": true,
            "ticks": "",
            "zerolinecolor": "white"
           }
          },
          "shapedefaults": {
           "line": {
            "color": "#2a3f5f"
           }
          },
          "ternary": {
           "aaxis": {
            "gridcolor": "white",
            "linecolor": "white",
            "ticks": ""
           },
           "baxis": {
            "gridcolor": "white",
            "linecolor": "white",
            "ticks": ""
           },
           "bgcolor": "#E5ECF6",
           "caxis": {
            "gridcolor": "white",
            "linecolor": "white",
            "ticks": ""
           }
          },
          "title": {
           "x": 0.05
          },
          "xaxis": {
           "automargin": true,
           "gridcolor": "white",
           "linecolor": "white",
           "ticks": "",
           "title": {
            "standoff": 15
           },
           "zerolinecolor": "white",
           "zerolinewidth": 2
          },
          "yaxis": {
           "automargin": true,
           "gridcolor": "white",
           "linecolor": "white",
           "ticks": "",
           "title": {
            "standoff": 15
           },
           "zerolinecolor": "white",
           "zerolinewidth": 2
          }
         }
        },
        "width": 1000
       }
      },
      "image/png": "[encoded data removed]",
      "text/html": [
       "<div>                            <div id=\"9bf03e88-b2db-42d3-85df-607808f67fa0\" class=\"plotly-graph-div\" style=\"height:800px; width:1000px;\"></div>            <script type=\"text/javascript\">                require([\"plotly\"], function(Plotly) {                    window.PLOTLYENV=window.PLOTLYENV || {};                                    if (document.getElementById(\"9bf03e88-b2db-42d3-85df-607808f67fa0\")) {                    Plotly.newPlot(                        \"9bf03e88-b2db-42d3-85df-607808f67fa0\",                        [{\"hovertemplate\":\"<b>%{hovertext}</b><br><br>R=%{x}<br>A=%{y}<br>S=%{z}<br>EV=%{marker.color}<extra></extra>\",\"hovertext\":[\"Left-Lateral-Ventricle\",\"Left-Inf-Lat-Vent\",\"Left-Cerebellum-White-Matter\",\"Left-Cerebellum-Cortex\",\"Left-Caudate\",\"Left-Putamen\",\"Left-Pallidum\",\"3rd-Ventricle\",\"4th-Ventricle\",\"Brain-Stem\",\"Left-Hippocampus\",\"Left-Amygdala\",\"CSF\",\"Left-Accumbens-area\",\"Left-VentralDC\",\"Left-vessel\",\"Left-choroid-plexus\",\"Right-Lateral-Ventricle\",\"Right-Inf-Lat-Vent\",\"Right-Cerebellum-White-Matter\",\"Right-Cerebellum-Cortex\",\"Right-Caudate\",\"Right-Putamen\",\"Right-Pallidum\",\"Right-Hippocampus\",\"Right-Amygdala\",\"Right-Accumbens-area\",\"Right-VentralDC\",\"Right-vessel\",\"Right-choroid-plexus\",\"lh_G&S_frontomargin\",\"lh_G&S_occipital_inf\",\"lh_G&S_paracentral\",\"lh_G&S_subcentral\",\"lh_G&S_transv_frontopol\",\"lh_G&S_cingul-Ant\",\"lh_G&S_cingul-Mid-Ant\",\"lh_G&S_cingul-Mid-Post\",\"lh_G_cingul-Post-dorsal\",\"lh_G_cingul-Post-ventral\",\"lh_G_cuneus\",\"lh_G_front_inf-Opercular\",\"lh_G_front_inf-Orbital\",\"lh_G_front_inf-Triangul\",\"lh_G_front_middle\",\"lh_G_front_sup\",\"lh_G_insular_short\",\"lh_G_occipital_middle\",\"lh_G_occipital_sup\",\"lh_G_oc-temp_lat-fusifor\",\"lh_G_oc-temp_med-Lingual\",\"lh_G_oc-temp_med-Parahip\",\"lh_G_orbital\",\"lh_G_pariet_inf-Angular\",\"lh_G_pariet_inf-Supramar\",\"lh_G_parietal_sup\",\"lh_G_postcentral\",\"lh_G_precentral\",\"lh_G_precuneus\",\"lh_G_rectus\",\"lh_G_subcallosal\",\"lh_G_temp_sup-G_T_transv\",\"lh_G_temp_sup-Lateral\",\"lh_G_temp_sup-Plan_polar\",\"lh_G_temp_sup-Plan_tempo\",\"lh_G_temporal_inf\",\"lh_G_temporal_middle\",\"lh_Lat_Fis-ant-Horizont\",\"lh_Lat_Fis-ant-Vertical\",\"lh_Lat_Fis-post\",\"lh_Pole_occipital\",\"lh_Pole_temporal\",\"lh_S_calcarine\",\"lh_S_central\",\"lh_S_cingul-Marginalis\",\"lh_S_circular_insula_ant\",\"lh_S_circular_insula_inf\",\"lh_S_circular_insula_sup\",\"lh_S_collat_transv_ant\",\"lh_S_collat_transv_post\",\"lh_S_front_inf\",\"lh_S_front_middle\",\"lh_S_front_sup\",\"lh_S_interm_prim-Jensen\",\"lh_S_occipital_ant\",\"lh_S_oc-temp_lat\",\"lh_S_orbital_lateral\",\"lh_S_orbital_med-olfact\",\"lh_S_orbital-H_Shaped\",\"lh_S_parieto_occipital\",\"lh_S_pericallosal\",\"lh_S_postcentral\",\"lh_S_precentral-inf-part\",\"lh_S_precentral-sup-part\",\"lh_S_suborbital\",\"lh_S_subparietal\",\"lh_S_temporal_inf\",\"lh_S_temporal_sup\",\"lh_S_temporal_transverse\",\"rh_G&S_frontomargin\",\"rh_G&S_occipital_inf\",\"rh_G&S_paracentral\",\"rh_G&S_subcentral\",\"rh_G&S_transv_frontopol\",\"rh_G&S_cingul-Ant\",\"rh_G&S_cingul-Mid-Ant\",\"rh_G&S_cingul-Mid-Post\",\"rh_G_cingul-Post-dorsal\",\"rh_G_cingul-Post-ventral\",\"rh_G_cuneus\",\"rh_G_front_inf-Opercular\",\"rh_G_front_inf-Orbital\",\"rh_G_front_inf-Triangul\",\"rh_G_front_middle\",\"rh_G_front_sup\",\"rh_G_insular_short\",\"rh_G_occipital_middle\",\"rh_G_occipital_sup\",\"rh_G_oc-temp_lat-fusifor\",\"rh_G_oc-temp_med-Lingual\",\"rh_G_oc-temp_med-Parahip\",\"rh_G_orbital\",\"rh_G_pariet_inf-Angular\",\"rh_G_pariet_inf-Supramar\",\"rh_G_parietal_sup\",\"rh_G_postcentral\",\"rh_G_precentral\",\"rh_G_precuneus\",\"rh_G_rectus\",\"rh_G_subcallosal\",\"rh_G_temp_sup-G_T_transv\",\"rh_G_temp_sup-Lateral\",\"rh_G_temp_sup-Plan_polar\",\"rh_G_temp_sup-Plan_tempo\",\"rh_G_temporal_inf\",\"rh_G_temporal_middle\",\"rh_Lat_Fis-ant-Horizont\",\"rh_Lat_Fis-ant-Vertical\",\"rh_Lat_Fis-post\",\"rh_Pole_occipital\",\"rh_Pole_temporal\",\"rh_S_calcarine\",\"rh_S_central\",\"rh_S_cingul-Marginalis\",\"rh_S_circular_insula_ant\",\"rh_S_circular_insula_inf\",\"rh_S_circular_insula_sup\",\"rh_S_collat_transv_ant\",\"rh_S_collat_transv_post\",\"rh_S_front_inf\",\"rh_S_front_middle\",\"rh_S_front_sup\",\"rh_S_interm_prim-Jensen\",\"rh_S_occipital_ant\",\"rh_S_oc-temp_lat\",\"rh_S_orbital_lateral\",\"rh_S_orbital_med-olfact\",\"rh_S_orbital-H_Shaped\",\"rh_S_parieto_occipital\",\"rh_S_pericallosal\",\"rh_S_postcentral\",\"rh_S_precentral-inf-part\",\"rh_S_precentral-sup-part\",\"rh_S_suborbital\",\"rh_S_subparietal\",\"rh_S_temporal_inf\",\"rh_S_temporal_sup\",\"rh_S_temporal_transverse\"],\"legendgroup\":\"\",\"marker\":{\"color\":[0.3984465963686576,0.3000624333992208,0.3096380012146593,0.3352594737622548,0.3211006872038824,0.4579304218493293,0.4157025860706883,0.4736761190075362,0.0928843292144958,0.3706073506082036,0.2629195559291262,0.2808792228320872,0.279057827915565,0.601569970013089,0.3177364680231317,0.1684373724503133,0.5992924973780571,0.4115499745100739,0.2536623698793424,0.2898926292376851,0.3239539249855246,0.3258157483785281,0.4342934428423571,0.3465295009122061,0.2548758365307789,0.2909010220527734,0.4157988101243802,0.3261675396050094,0.2414096408474082,0.6772416808837689,0.2712323834121383,0.2102933942569126,0.2121484786074715,0.2612463994168431,0.254489791028797,0.2769871352563131,0.2293766258772991,0.3331469332849968,0.2956137478094726,0.3463151478775494,0.3947371815158184,0.3197461326901586,0.2733100437814253,0.3534770524179245,0.3914081640697551,0.3946820912935856,0.1162866108897898,0.2302569050957623,0.2202057723540496,0.2554352190332647,0.4853153641777251,0.1381604965136125,0.3165687200512088,0.372458452897611,0.3374120019308309,0.3534210245628455,0.2218402934342997,0.2327613175494214,0.3419298979346118,0.2444894851406152,0.2293874604104043,0.2380478328034081,0.2325445529596411,0.1414838330344296,0.2545343354233308,0.2889051261895672,0.2859664018124653,0.1623950708795619,0.2133205828180434,0.3047013381608242,0.1466326246037769,0.1830264782416378,0.5103193687446088,0.2964148617343849,0.3627189383014743,0.2266613820877113,0.2789433801445243,0.3939602851166105,0.1074633303136258,0.1870208535847312,0.4186434589350115,0.388391890946991,0.4321563492372087,0.1591208543942418,0.1882782862813103,0.1930931140494535,0.2415291215372165,0.2049261171488891,0.3508703958956656,0.376188248119842,0.1031385275617619,0.4126546267941269,0.363306544733261,0.2942109874725812,0.1258547475317001,0.2854850569334689,0.2013186908067307,0.4083929585634609,0.1317384659372245,0.267450818734567,0.123256637343534,0.2060935405805296,0.2480422197218245,0.2912248765022015,0.355438559039132,0.2545873056171897,0.3076162832911963,0.2982185972738599,0.2488087034028987,0.5030811256196004,0.3274286591230948,0.2542141295254332,0.3454004440511702,0.3885375593861482,0.3816997462614688,0.13199610324875,0.2542989617355219,0.2609532668599255,0.1980609195323081,0.5431794518603543,0.148397005153435,0.2905967659584425,0.3312002549292525,0.3217352103072578,0.3406852529353056,0.2021176136371691,0.2113718528003562,0.3338243248953234,0.2104547826759399,0.1065041092334165,0.2060196691767332,0.2477459319833121,0.1456450127025979,0.2704669644341225,0.2520403420533375,0.3119142490306856,0.2243432480552636,0.166592526771496,0.3266037050417834,0.1939695812991764,0.1677246749718323,0.507141864873845,0.2916186213502316,0.3595006762987446,0.2058862488865666,0.2646606959609201,0.3823921962499047,0.1446948532619609,0.1965118312694491,0.4121637383620558,0.4265246057276656,0.4151155218081146,0.2540897800845741,0.166821620095207,0.1659098660419264,0.29133284162899,0.2444835533860258,0.3852519844718942,0.3448380915614671,0.1028915957724043,0.387700694353975,0.3266863452842812,0.2564990815661748,0.1081214042185211,0.2743446851605278,0.1798968159664423,0.4148900517414247,0.1381668171525477],\"coloraxis\":\"coloraxis\",\"opacity\":0.7,\"symbol\":\"circle\"},\"mode\":\"markers\",\"name\":\"\",\"scene\":\"scene\",\"showlegend\":false,\"x\":[-14.4557,-33.9069,-17.3054,-22.2658,-15.0342,-26.3662,-20.9167,0.5832,0.5414,0.8274,-26.0885,-23.9093,0.6027,-9.6298,-11.4566,-28.5455,-12.5026,15.1816,33.1019,19.0709,23.6529,16.1594,26.9446,22.1053,27.7436,24.9425,9.9868,12.4342,30.5581,12.0086,-23.1251,-37.2018,-7.9944,-55.8942,-14.2706,-7.7783,-7.2655,-7.1176,-3.7206,-7.5337,-5.2448,-49.8475,-43.6314,-49.6582,-35.747,-9.8816,-37.1827,-39.597,-14.6553,-34.6236,-10.7537,-23.5743,-27.2398,-42.5073,-55.7925,-21.0506,-44.7402,-42.3603,-6.1559,-4.7514,-4.3878,-47.7364,-57.4998,-39.943,-57.5532,-51.128,-59.7574,-39.0511,-43.736,-40.6452,-18.7681,-33.8886,-15.7554,-36.5072,-13.2361,-30.5266,-41.0366,-36.1574,-40.796,-25.0798,-39.5856,-27.3377,-23.7145,-51.2464,-43.0102,-43.2079,-41.2287,-12.07,-25.707,-15.1186,-4.4078,-38.27,-44.5104,-28.9046,-6.9567,-9.6541,-52.9245,-49.8609,-51.0,21.2278,41.3785,6.8935,56.3936,16.3126,8.5277,7.67,6.8961,3.7861,8.1356,6.3039,50.8304,48.4311,51.924,37.241,10.2659,38.6089,40.8287,18.9942,33.8612,11.3852,25.5473,27.7573,45.5102,57.5147,21.6948,44.2217,42.3899,6.4769,5.4131,5.0668,48.8354,59.6211,42.3807,58.7242,53.1427,61.3127,41.598,46.2786,40.4023,18.1044,37.2429,17.3563,36.4714,12.4069,32.3848,42.5558,37.0395,42.8538,26.264,39.9658,28.8744,24.0608,50.0788,43.9854,44.1098,43.429,12.9365,25.9679,16.7747,5.5137,37.3295,43.7165,27.3901,6.8615,9.1647,53.5491,50.5513,53.0349],\"y\":[-13.6935,-22.2847,-53.4316,-64.3663,9.4376,-0.1569,-5.1887,-11.117,-46.5624,-31.9463,-24.4296,-7.3395,-20.7054,10.9602,-16.8469,-3.2,-12.218,-13.2417,-17.9214,-53.5137,-64.4168,9.4585,0.5477,-4.939,-23.3794,-6.0108,10.424,-16.4125,-2.5814,-11.022,56.7958,-82.6295,-33.1159,-11.3545,63.5673,38.9848,16.0669,-11.6682,-38.2292,-48.8825,-81.9967,11.5337,30.9509,30.0638,33.1098,26.3029,9.0123,-83.6257,-88.777,-53.8229,-71.924,-17.2485,35.5644,-67.3401,-36.7359,-60.0,-24.6631,-9.2686,-58.2415,39.3837,13.9366,-19.1462,-10.6316,5.3878,-37.7426,-33.8554,-30.051,31.4562,21.1781,-33.2763,-98.0764,6.7044,-65.7797,-19.8462,-36.5753,20.6759,-11.7168,5.3773,-22.5175,-78.5924,23.4187,43.5,19.6477,-52.715,-69.1141,-51.3559,42.4769,25.5372,36.2054,-67.8952,-0.2915,-35.1022,3.9463,-8.46,39.6215,-48.4108,-35.2661,-40.9534,-25.3276,57.8432,-78.626,-32.8405,-9.9829,63.2224,38.6647,16.5685,-10.2923,-38.2181,-50.609,-78.9931,9.2072,33.0299,28.6687,33.6232,28.1423,10.1184,-80.812,-84.885,-51.8256,-66.4634,-15.1787,35.1705,-62.18,-32.1809,-56.3044,-23.7366,-7.8249,-59.9843,34.7985,13.8114,-16.781,-9.3856,6.2392,-31.91,-31.9381,-27.9987,28.5267,20.7,-27.3183,-95.485,7.7964,-63.3242,-18.6575,-36.0269,22.0633,-10.5773,6.7203,-21.6591,-78.3,25.6634,42.5388,19.3358,-44.3818,-66.3889,-50.1488,40.4972,25.0338,35.7216,-66.7137,-0.6535,-32.9907,5.7394,-7.7737,39.9108,-48.5168,-33.8282,-37.0735,-21.3815],\"z\":[13.7137,-15.8212,-36.0172,-37.6748,6.9134,-2.0915,-2.4108,-3.9433,-33.2182,-31.0038,-15.1489,-20.6358,8.0407,-8.7866,-10.3269,-10.1818,6.3055,14.2578,-16.9809,-35.6734,-37.1952,8.2391,-2.2491,-1.954,-14.995,-20.7379,-8.7054,-10.0567,-10.4419,7.3672,-8.8575,-13.1777,67.397,14.5476,-0.6889,9.0119,34.2914,40.5827,30.6738,6.368,17.0077,9.0836,-10.276,4.7465,31.8311,45.3459,-3.7319,11.7755,27.3987,-19.7188,-5.4271,-27.3776,-17.7082,36.7981,30.9234,58.3399,53.214,50.1121,40.158,-20.2318,-10.0195,5.724,-6.8325,-21.7421,15.8241,-27.151,-13.818,-3.281,6.9506,16.6855,-3.7502,-37.8935,4.3414,45.0357,46.5387,-10.1728,-7.5982,10.2139,-27.0101,-8.7521,20.783,19.8966,44.016,30.8309,0.3299,-15.2207,-2.7372,-19.7779,-13.8749,22.7639,17.734,45.0907,26.7478,52.2209,-10.6422,35.1315,-17.6773,3.242,3.5501,-10.3605,-12.0294,67.312,15.4265,1.2483,7.4681,35.1832,41.6171,31.7797,7.3923,18.7983,8.0672,-7.6527,8.2459,31.3429,44.9265,-2.9565,14.3411,32.0536,-19.0918,-4.2247,-28.134,-17.8274,38.761,31.5709,60.9097,54.0854,49.6349,42.4628,-20.9867,-11.8605,5.5635,-5.5205,-20.38,16.672,-27.075,-13.4806,1.7506,8.3179,17.3162,-2.6473,-37.3216,5.1179,45.3375,46.6829,-7.7903,-7.4966,9.5104,-26.6108,-9.084,20.813,20.4978,45.4579,31.7636,3.5906,-15.5087,-2.804,-19.0911,-14.4277,24.1158,18.6849,46.6787,27.837,53.4533,-13.4156,36.0975,-16.9948,2.3295,5.7481],\"type\":\"scatter3d\"}],                        {\"template\":{\"data\":{\"bar\":[{\"error_x\":{\"color\":\"#2a3f5f\"},\"error_y\":{\"color\":\"#2a3f5f\"},\"marker\":{\"line\":{\"color\":\"#E5ECF6\",\"width\":0.5},\"pattern\":{\"fillmode\":\"overlay\",\"size\":10,\"solidity\":0.2}},\"type\":\"bar\"}],\"barpolar\":[{\"marker\":{\"line\":{\"color\":\"#E5ECF6\",\"width\":0.5},\"pattern\":{\"fillmode\":\"overlay\",\"size\":10,\"solidity\":0.2}},\"type\":\"barpolar\"}],\"carpet\":[{\"aaxis\":{\"endlinecolor\":\"#2a3f5f\",\"gridcolor\":\"white\",\"linecolor\":\"white\",\"minorgridcolor\":\"white\",\"startlinecolor\":\"#2a3f5f\"},\"baxis\":{\"endlinecolor\":\"#2a3f5f\",\"gridcolor\":\"white\",\"linecolor\":\"white\",\"minorgridcolor\":\"white\",\"startlinecolor\":\"#2a3f5f\"},\"type\":\"carpet\"}],\"choropleth\":[{\"colorbar\":{\"outlinewidth\":0,\"ticks\":\"\"},\"type\":\"choropleth\"}],\"contour\":[{\"colorbar\":{\"outlinewidth\":0,\"ticks\":\"\"},\"colorscale\":[[0.0,\"#0d0887\"],[0.1111111111111111,\"#46039f\"],[0.2222222222222222,\"#7201a8\"],[0.3333333333333333,\"#9c179e\"],[0.4444444444444444,\"#bd3786\"],[0.5555555555555556,\"#d8576b\"],[0.6666666666666666,\"#ed7953\"],[0.7777777777777778,\"#fb9f3a\"],[0.8888888888888888,\"#fdca26\"],[1.0,\"#f0f921\"]],\"type\":\"contour\"}],\"contourcarpet\":[{\"colorbar\":{\"outlinewidth\":0,\"ticks\":\"\"},\"type\":\"contourcarpet\"}],\"heatmap\":[{\"colorbar\":{\"outlinewidth\":0,\"ticks\":\"\"},\"colorscale\":[[0.0,\"#0d0887\"],[0.1111111111111111,\"#46039f\"],[0.2222222222222222,\"#7201a8\"],[0.3333333333333333,\"#9c179e\"],[0.4444444444444444,\"#bd3786\"],[0.5555555555555556,\"#d8576b\"],[0.6666666666666666,\"#ed7953\"],[0.7777777777777778,\"#fb9f3a\"],[0.8888888888888888,\"#fdca26\"],[1.0,\"#f0f921\"]],\"type\":\"heatmap\"}],\"heatmapgl\":[{\"colorbar\":{\"outlinewidth\":0,\"ticks\":\"\"},\"colorscale\":[[0.0,\"#0d0887\"],[0.1111111111111111,\"#46039f\"],[0.2222222222222222,\"#7201a8\"],[0.3333333333333333,\"#9c179e\"],[0.4444444444444444,\"#bd3786\"],[0.5555555555555556,\"#d8576b\"],[0.6666666666666666,\"#ed7953\"],[0.7777777777777778,\"#fb9f3a\"],[0.8888888888888888,\"#fdca26\"],[1.0,\"#f0f921\"]],\"type\":\"heatmapgl\"}],\"histogram\":[{\"marker\":{\"pattern\":{\"fillmode\":\"overlay\",\"size\":10,\"solidity\":0.2}},\"type\":\"histogram\"}],\"histogram2d\":[{\"colorbar\":{\"outlinewidth\":0,\"ticks\":\"\"},\"colorscale\":[[0.0,\"#0d0887\"],[0.1111111111111111,\"#46039f\"],[0.2222222222222222,\"#7201a8\"],[0.3333333333333333,\"#9c179e\"],[0.4444444444444444,\"#bd3786\"],[0.5555555555555556,\"#d8576b\"],[0.6666666666666666,\"#ed7953\"],[0.7777777777777778,\"#fb9f3a\"],[0.8888888888888888,\"#fdca26\"],[1.0,\"#f0f921\"]],\"type\":\"histogram2d\"}],\"histogram2dcontour\":[{\"colorbar\":{\"outlinewidth\":0,\"ticks\":\"\"},\"colorscale\":[[0.0,\"#0d0887\"],[0.1111111111111111,\"#46039f\"],[0.2222222222222222,\"#7201a8\"],[0.3333333333333333,\"#9c179e\"],[0.4444444444444444,\"#bd3786\"],[0.5555555555555556,\"#d8576b\"],[0.6666666666666666,\"#ed7953\"],[0.7777777777777778,\"#fb9f3a\"],[0.8888888888888888,\"#fdca26\"],[1.0,\"#f0f921\"]],\"type\":\"histogram2dcontour\"}],\"mesh3d\":[{\"colorbar\":{\"outlinewidth\":0,\"ticks\":\"\"},\"type\":\"mesh3d\"}],\"parcoords\":[{\"line\":{\"colorbar\":{\"outlinewidth\":0,\"ticks\":\"\"}},\"type\":\"parcoords\"}],\"pie\":[{\"automargin\":true,\"type\":\"pie\"}],\"scatter\":[{\"marker\":{\"colorbar\":{\"outlinewidth\":0,\"ticks\":\"\"}},\"type\":\"scatter\"}],\"scatter3d\":[{\"line\":{\"colorbar\":{\"outlinewidth\":0,\"ticks\":\"\"}},\"marker\":{\"colorbar\":{\"outlinewidth\":0,\"ticks\":\"\"}},\"type\":\"scatter3d\"}],\"scattercarpet\":[{\"marker\":{\"colorbar\":{\"outlinewidth\":0,\"ticks\":\"\"}},\"type\":\"scattercarpet\"}],\"scattergeo\":[{\"marker\":{\"colorbar\":{\"outlinewidth\":0,\"ticks\":\"\"}},\"type\":\"scattergeo\"}],\"scattergl\":[{\"marker\":{\"colorbar\":{\"outlinewidth\":0,\"ticks\":\"\"}},\"type\":\"scattergl\"}],\"scattermapbox\":[{\"marker\":{\"colorbar\":{\"outlinewidth\":0,\"ticks\":\"\"}},\"type\":\"scattermapbox\"}],\"scatterpolar\":[{\"marker\":{\"colorbar\":{\"outlinewidth\":0,\"ticks\":\"\"}},\"type\":\"scatterpolar\"}],\"scatterpolargl\":[{\"marker\":{\"colorbar\":{\"outlinewidth\":0,\"ticks\":\"\"}},\"type\":\"scatterpolargl\"}],\"scatterternary\":[{\"marker\":{\"colorbar\":{\"outlinewidth\":0,\"ticks\":\"\"}},\"type\":\"scatterternary\"}],\"surface\":[{\"colorbar\":{\"outlinewidth\":0,\"ticks\":\"\"},\"colorscale\":[[0.0,\"#0d0887\"],[0.1111111111111111,\"#46039f\"],[0.2222222222222222,\"#7201a8\"],[0.3333333333333333,\"#9c179e\"],[0.4444444444444444,\"#bd3786\"],[0.5555555555555556,\"#d8576b\"],[0.6666666666666666,\"#ed7953\"],[0.7777777777777778,\"#fb9f3a\"],[0.8888888888888888,\"#fdca26\"],[1.0,\"#f0f921\"]],\"type\":\"surface\"}],\"table\":[{\"cells\":{\"fill\":{\"color\":\"#EBF0F8\"},\"line\":{\"color\":\"white\"}},\"header\":{\"fill\":{\"color\":\"#C8D4E3\"},\"line\":{\"color\":\"white\"}},\"type\":\"table\"}]},\"layout\":{\"annotationdefaults\":{\"arrowcolor\":\"#2a3f5f\",\"arrowhead\":0,\"arrowwidth\":1},\"autotypenumbers\":\"strict\",\"coloraxis\":{\"colorbar\":{\"outlinewidth\":0,\"ticks\":\"\"}},\"colorscale\":{\"diverging\":[[0,\"#8e0152\"],[0.1,\"#c51b7d\"],[0.2,\"#de77ae\"],[0.3,\"#f1b6da\"],[0.4,\"#fde0ef\"],[0.5,\"#f7f7f7\"],[0.6,\"#e6f5d0\"],[0.7,\"#b8e186\"],[0.8,\"#7fbc41\"],[0.9,\"#4d9221\"],[1,\"#276419\"]],\"sequential\":[[0.0,\"#0d0887\"],[0.1111111111111111,\"#46039f\"],[0.2222222222222222,\"#7201a8\"],[0.3333333333333333,\"#9c179e\"],[0.4444444444444444,\"#bd3786\"],[0.5555555555555556,\"#d8576b\"],[0.6666666666666666,\"#ed7953\"],[0.7777777777777778,\"#fb9f3a\"],[0.8888888888888888,\"#fdca26\"],[1.0,\"#f0f921\"]],\"sequentialminus\":[[0.0,\"#0d0887\"],[0.1111111111111111,\"#46039f\"],[0.2222222222222222,\"#7201a8\"],[0.3333333333333333,\"#9c179e\"],[0.4444444444444444,\"#bd3786\"],[0.5555555555555556,\"#d8576b\"],[0.6666666666666666,\"#ed7953\"],[0.7777777777777778,\"#fb9f3a\"],[0.8888888888888888,\"#fdca26\"],[1.0,\"#f0f921\"]]},\"colorway\":[\"#636efa\",\"#EF553B\",\"#00cc96\",\"#ab63fa\",\"#FFA15A\",\"#19d3f3\",\"#FF6692\",\"#B6E880\",\"#FF97FF\",\"#FECB52\"],\"font\":{\"color\":\"#2a3f5f\"},\"geo\":{\"bgcolor\":\"white\",\"lakecolor\":\"white\",\"landcolor\":\"#E5ECF6\",\"showlakes\":true,\"showland\":true,\"subunitcolor\":\"white\"},\"hoverlabel\":{\"align\":\"left\"},\"hovermode\":\"closest\",\"mapbox\":{\"style\":\"light\"},\"paper_bgcolor\":\"white\",\"plot_bgcolor\":\"#E5ECF6\",\"polar\":{\"angularaxis\":{\"gridcolor\":\"white\",\"linecolor\":\"white\",\"ticks\":\"\"},\"bgcolor\":\"#E5ECF6\",\"radialaxis\":{\"gridcolor\":\"white\",\"linecolor\":\"white\",\"ticks\":\"\"}},\"scene\":{\"xaxis\":{\"backgroundcolor\":\"#E5ECF6\",\"gridcolor\":\"white\",\"gridwidth\":2,\"linecolor\":\"white\",\"showbackground\":true,\"ticks\":\"\",\"zerolinecolor\":\"white\"},\"yaxis\":{\"backgroundcolor\":\"#E5ECF6\",\"gridcolor\":\"white\",\"gridwidth\":2,\"linecolor\":\"white\",\"showbackground\":true,\"ticks\":\"\",\"zerolinecolor\":\"white\"},\"zaxis\":{\"backgroundcolor\":\"#E5ECF6\",\"gridcolor\":\"white\",\"gridwidth\":2,\"linecolor\":\"white\",\"showbackground\":true,\"ticks\":\"\",\"zerolinecolor\":\"white\"}},\"shapedefaults\":{\"line\":{\"color\":\"#2a3f5f\"}},\"ternary\":{\"aaxis\":{\"gridcolor\":\"white\",\"linecolor\":\"white\",\"ticks\":\"\"},\"baxis\":{\"gridcolor\":\"white\",\"linecolor\":\"white\",\"ticks\":\"\"},\"bgcolor\":\"#E5ECF6\",\"caxis\":{\"gridcolor\":\"white\",\"linecolor\":\"white\",\"ticks\":\"\"}},\"title\":{\"x\":0.05},\"xaxis\":{\"automargin\":true,\"gridcolor\":\"white\",\"linecolor\":\"white\",\"ticks\":\"\",\"title\":{\"standoff\":15},\"zerolinecolor\":\"white\",\"zerolinewidth\":2},\"yaxis\":{\"automargin\":true,\"gridcolor\":\"white\",\"linecolor\":\"white\",\"ticks\":\"\",\"title\":{\"standoff\":15},\"zerolinecolor\":\"white\",\"zerolinewidth\":2}}},\"scene\":{\"domain\":{\"x\":[0.0,1.0],\"y\":[0.0,1.0]},\"xaxis\":{\"title\":{\"text\":\"R\"}},\"yaxis\":{\"title\":{\"text\":\"A\"}},\"zaxis\":{\"title\":{\"text\":\"S\"}}},\"coloraxis\":{\"colorbar\":{\"title\":{\"text\":\"EV\"},\"x\":-0.15},\"colorscale\":[[0.0,\"#0d0887\"],[0.1111111111111111,\"#46039f\"],[0.2222222222222222,\"#7201a8\"],[0.3333333333333333,\"#9c179e\"],[0.4444444444444444,\"#bd3786\"],[0.5555555555555556,\"#d8576b\"],[0.6666666666666666,\"#ed7953\"],[0.7777777777777778,\"#fb9f3a\"],[0.8888888888888888,\"#fdca26\"],[1.0,\"#f0f921\"]]},\"legend\":{\"tracegroupgap\":0},\"margin\":{\"t\":0,\"l\":0,\"r\":0,\"b\":0},\"height\":800,\"width\":1000},                        {\"responsive\": true}                    ).then(function(){\n",
       "                            \n",
       "var gd = document.getElementById('9bf03e88-b2db-42d3-85df-607808f67fa0');\n",
       "var x = new MutationObserver(function (mutations, observer) {{\n",
       "        var display = window.getComputedStyle(gd).display;\n",
       "        if (!display || display === 'none') {{\n",
       "            console.log([gd, 'removed!']);\n",
       "            Plotly.purge(gd);\n",
       "            observer.disconnect();\n",
       "        }}\n",
       "}});\n",
       "\n",
       "// Listen for the removal of the full notebook cells\n",
       "var notebookContainer = gd.closest('#notebook-container');\n",
       "if (notebookContainer) {{\n",
       "    x.observe(notebookContainer, {childList: true});\n",
       "}}\n",
       "\n",
       "// Listen for the clearing of the current output cell\n",
       "var outputEl = gd.closest('.output');\n",
       "if (outputEl) {{\n",
       "    x.observe(outputEl, {childList: true});\n",
       "}}\n",
       "\n",
       "                        })                };                });            </script>        </div>"
      ]
     },
     "metadata": {},
     "output_type": "display_data"
    }
   ],
   "source": [
    "fig = px.scatter_3d(df_f0, x='R', y='A', z='S', hover_name='Label', \n",
    "              color='EV', opacity=0.7, width=1000, height=800)\n",
    "\n",
    "\n",
    "# tight layout\n",
    "fig.update_layout(margin=dict(l=0, r=0, b=0, t=0))\n",
    "fig.update_layout(coloraxis_colorbar_x=-0.15)\n",
    "fig.show()"
   ]
  },
  {
   "cell_type": "code",
   "execution_count": 16,
   "id": "52d308c4-45a4-4ba6-ba04-af3da167c5ae",
   "metadata": {},
   "outputs": [],
   "source": [
    "import pandas as pd"
   ]
  },
  {
   "cell_type": "code",
   "execution_count": 17,
   "id": "5cd108ba-e47d-497c-9c01-daee84d86be4",
   "metadata": {},
   "outputs": [],
   "source": [
    "df = pd.read_csv('../../Desktop/FS_LUT.csv')\n",
    "df2 = pd.read_csv('../../Desktop/aparc_aseg_xyz.csv')"
   ]
  },
  {
   "cell_type": "code",
   "execution_count": 20,
   "id": "f5c24c10-b99c-41b1-9bdf-7c88208d7c63",
   "metadata": {},
   "outputs": [],
   "source": [
    "df3 = pd.merge(df, df2, how='inner')"
   ]
  },
  {
   "cell_type": "code",
   "execution_count": 155,
   "id": "56c7dbb1-2d18-4d18-9daf-479687b2a1b8",
   "metadata": {},
   "outputs": [
    {
     "data": {
      "text/html": [
       "<div>\n",
       "<style scoped>\n",
       "    .dataframe tbody tr th:only-of-type {\n",
       "        vertical-align: middle;\n",
       "    }\n",
       "\n",
       "    .dataframe tbody tr th {\n",
       "        vertical-align: top;\n",
       "    }\n",
       "\n",
       "    .dataframe thead th {\n",
       "        text-align: right;\n",
       "    }\n",
       "</style>\n",
       "<table border=\"1\" class=\"dataframe\">\n",
       "  <thead>\n",
       "    <tr style=\"text-align: right;\">\n",
       "      <th></th>\n",
       "      <th>FS_LUT_ID</th>\n",
       "      <th>Label</th>\n",
       "      <th>R</th>\n",
       "      <th>A</th>\n",
       "      <th>S</th>\n",
       "    </tr>\n",
       "  </thead>\n",
       "  <tbody>\n",
       "    <tr>\n",
       "      <th>0</th>\n",
       "      <td>2</td>\n",
       "      <td>Left-Cerebral-White-Matter</td>\n",
       "      <td>-27.9652</td>\n",
       "      <td>-19.0137</td>\n",
       "      <td>17.9195</td>\n",
       "    </tr>\n",
       "    <tr>\n",
       "      <th>1</th>\n",
       "      <td>4</td>\n",
       "      <td>Left-Lateral-Ventricle</td>\n",
       "      <td>-14.4557</td>\n",
       "      <td>-13.6935</td>\n",
       "      <td>13.7137</td>\n",
       "    </tr>\n",
       "    <tr>\n",
       "      <th>2</th>\n",
       "      <td>5</td>\n",
       "      <td>Left-Inf-Lat-Vent</td>\n",
       "      <td>-33.9069</td>\n",
       "      <td>-22.2847</td>\n",
       "      <td>-15.8212</td>\n",
       "    </tr>\n",
       "    <tr>\n",
       "      <th>3</th>\n",
       "      <td>7</td>\n",
       "      <td>Left-Cerebellum-White-Matter</td>\n",
       "      <td>-17.3054</td>\n",
       "      <td>-53.4316</td>\n",
       "      <td>-36.0172</td>\n",
       "    </tr>\n",
       "    <tr>\n",
       "      <th>4</th>\n",
       "      <td>8</td>\n",
       "      <td>Left-Cerebellum-Cortex</td>\n",
       "      <td>-22.2658</td>\n",
       "      <td>-64.3663</td>\n",
       "      <td>-37.6748</td>\n",
       "    </tr>\n",
       "    <tr>\n",
       "      <th>...</th>\n",
       "      <td>...</td>\n",
       "      <td>...</td>\n",
       "      <td>...</td>\n",
       "      <td>...</td>\n",
       "      <td>...</td>\n",
       "    </tr>\n",
       "    <tr>\n",
       "      <th>186</th>\n",
       "      <td>12171</td>\n",
       "      <td>rh_S_suborbital</td>\n",
       "      <td>6.8615</td>\n",
       "      <td>39.9108</td>\n",
       "      <td>-13.4156</td>\n",
       "    </tr>\n",
       "    <tr>\n",
       "      <th>187</th>\n",
       "      <td>12172</td>\n",
       "      <td>rh_S_subparietal</td>\n",
       "      <td>9.1647</td>\n",
       "      <td>-48.5168</td>\n",
       "      <td>36.0975</td>\n",
       "    </tr>\n",
       "    <tr>\n",
       "      <th>188</th>\n",
       "      <td>12173</td>\n",
       "      <td>rh_S_temporal_inf</td>\n",
       "      <td>53.5491</td>\n",
       "      <td>-33.8282</td>\n",
       "      <td>-16.9948</td>\n",
       "    </tr>\n",
       "    <tr>\n",
       "      <th>189</th>\n",
       "      <td>12174</td>\n",
       "      <td>rh_S_temporal_sup</td>\n",
       "      <td>50.5513</td>\n",
       "      <td>-37.0735</td>\n",
       "      <td>2.3295</td>\n",
       "    </tr>\n",
       "    <tr>\n",
       "      <th>190</th>\n",
       "      <td>12175</td>\n",
       "      <td>rh_S_temporal_transverse</td>\n",
       "      <td>53.0349</td>\n",
       "      <td>-21.3815</td>\n",
       "      <td>5.7481</td>\n",
       "    </tr>\n",
       "  </tbody>\n",
       "</table>\n",
       "<p>191 rows × 5 columns</p>\n",
       "</div>"
      ],
      "text/plain": [
       "     FS_LUT_ID                         Label        R        A        S\n",
       "0            2    Left-Cerebral-White-Matter -27.9652 -19.0137  17.9195\n",
       "1            4        Left-Lateral-Ventricle -14.4557 -13.6935  13.7137\n",
       "2            5             Left-Inf-Lat-Vent -33.9069 -22.2847 -15.8212\n",
       "3            7  Left-Cerebellum-White-Matter -17.3054 -53.4316 -36.0172\n",
       "4            8        Left-Cerebellum-Cortex -22.2658 -64.3663 -37.6748\n",
       "..         ...                           ...      ...      ...      ...\n",
       "186      12171               rh_S_suborbital   6.8615  39.9108 -13.4156\n",
       "187      12172              rh_S_subparietal   9.1647 -48.5168  36.0975\n",
       "188      12173             rh_S_temporal_inf  53.5491 -33.8282 -16.9948\n",
       "189      12174             rh_S_temporal_sup  50.5513 -37.0735   2.3295\n",
       "190      12175      rh_S_temporal_transverse  53.0349 -21.3815   5.7481\n",
       "\n",
       "[191 rows x 5 columns]"
      ]
     },
     "execution_count": 155,
     "metadata": {},
     "output_type": "execute_result"
    }
   ],
   "source": [
    "df3"
   ]
  },
  {
   "cell_type": "code",
   "execution_count": 22,
   "id": "582ed274-8d61-414c-a01e-dd5235127328",
   "metadata": {},
   "outputs": [],
   "source": [
    "fold0 = pd.read_csv('../../Desktop/resampling/resample_0/lifespan_29K_82sites_train/blr_metrics.csv')"
   ]
  },
  {
   "cell_type": "code",
   "execution_count": 24,
   "id": "b4f4c9ef-99ed-4120-9b57-769dcb77595b",
   "metadata": {},
   "outputs": [],
   "source": [
    "fold0['Label'] = fold0['eid']"
   ]
  },
  {
   "cell_type": "code",
   "execution_count": 26,
   "id": "f0941caf-fc1d-421c-99f8-7ea9c725bb5c",
   "metadata": {},
   "outputs": [],
   "source": [
    "fold0['Label'] = fold0['Label'].str.replace('_thickness','')"
   ]
  },
  {
   "cell_type": "code",
   "execution_count": 32,
   "id": "b2b5bcdf-8434-4d86-beef-42b0bb982797",
   "metadata": {},
   "outputs": [],
   "source": [
    "df_f0 = pd.merge(df3, fold0, how='right')"
   ]
  },
  {
   "cell_type": "code",
   "execution_count": 151,
   "id": "8212d217-0fae-43d5-ad32-eb2f28465d90",
   "metadata": {},
   "outputs": [],
   "source": [
    "df_f0['fold'] = 0"
   ]
  },
  {
   "cell_type": "code",
   "execution_count": 152,
   "id": "3a9f0b6d-5287-45e0-b996-3188b27d1ae2",
   "metadata": {},
   "outputs": [],
   "source": [
    "df_f0.to_csv('merged_fold0_FS_LUT.csv', index=False)"
   ]
  },
  {
   "cell_type": "code",
   "execution_count": 86,
   "id": "fb73bfd1-24cf-4ac4-a322-3d251b3959a4",
   "metadata": {},
   "outputs": [],
   "source": [
    "fold1 = pd.read_csv('../../Desktop/resampling/resample_1/lifespan_29K_82sites_train/blr_metrics.csv')"
   ]
  },
  {
   "cell_type": "code",
   "execution_count": 87,
   "id": "92727d4f-6cec-4b84-88d0-e0cb8832f425",
   "metadata": {},
   "outputs": [],
   "source": [
    "fold1['Label'] = fold1['eid']"
   ]
  },
  {
   "cell_type": "code",
   "execution_count": 88,
   "id": "2cd35a4f-a3bf-4131-b597-5d8f44ff3e07",
   "metadata": {},
   "outputs": [],
   "source": [
    "fold1['Label'] = fold1['Label'].str.replace('_thickness','')"
   ]
  },
  {
   "cell_type": "code",
   "execution_count": 89,
   "id": "9517e226-09ca-44d0-8b49-ee49946e28e5",
   "metadata": {},
   "outputs": [],
   "source": [
    "df_f1 = pd.merge(df3, fold1, how='right')"
   ]
  },
  {
   "cell_type": "code",
   "execution_count": 149,
   "id": "a9849afa-a2d3-4de8-9673-bef2db1bd62f",
   "metadata": {},
   "outputs": [],
   "source": [
    "df_f1['fold'] = 1"
   ]
  },
  {
   "cell_type": "code",
   "execution_count": 150,
   "id": "ca60eb21-d05c-4852-b8ad-bdaf3f79a1d8",
   "metadata": {},
   "outputs": [],
   "source": [
    "df_f1.to_csv('merged_fold1_FS_LUT.csv', index=False)"
   ]
  },
  {
   "cell_type": "code",
   "execution_count": 91,
   "id": "c07316e3-e3be-4438-9832-f7274927c81d",
   "metadata": {},
   "outputs": [],
   "source": [
    "fold2 = pd.read_csv('../../Desktop/resampling/resample_2/lifespan_29K_82sites_train/blr_metrics.csv')"
   ]
  },
  {
   "cell_type": "code",
   "execution_count": 92,
   "id": "3165b82d-c2d4-48d2-b7f9-2b3abf6dd387",
   "metadata": {},
   "outputs": [],
   "source": [
    "fold2['Label'] = fold2['eid']"
   ]
  },
  {
   "cell_type": "code",
   "execution_count": 93,
   "id": "8d9fe5a2-7a78-48fa-89dd-73dc3e49f4e1",
   "metadata": {},
   "outputs": [],
   "source": [
    "fold2['Label'] = fold2['Label'].str.replace('_thickness','')"
   ]
  },
  {
   "cell_type": "code",
   "execution_count": 94,
   "id": "d007c1b5-0c39-4da1-8f91-96d749309083",
   "metadata": {},
   "outputs": [],
   "source": [
    "df_f2 = pd.merge(df3, fold2, how='right')"
   ]
  },
  {
   "cell_type": "code",
   "execution_count": 147,
   "id": "e67e4c7b-16a3-4789-a828-4700fa20ebdc",
   "metadata": {},
   "outputs": [],
   "source": [
    "df_f2['fold'] = 2"
   ]
  },
  {
   "cell_type": "code",
   "execution_count": 148,
   "id": "af514a2d-b7ca-4c09-bce5-70016d6f4bc9",
   "metadata": {},
   "outputs": [],
   "source": [
    "df_f2.to_csv('merged_fold2_FS_LUT.csv', index=False)"
   ]
  },
  {
   "cell_type": "code",
   "execution_count": 96,
   "id": "306642bc-e046-49f2-8ccb-a01ba5fac2d8",
   "metadata": {},
   "outputs": [],
   "source": [
    "fold3 = pd.read_csv('../../Desktop/resampling/resample_3/lifespan_29K_82sites_train/blr_metrics.csv')"
   ]
  },
  {
   "cell_type": "code",
   "execution_count": 97,
   "id": "47dcb01a-e1d4-42ca-9c98-e7cc8d064a9c",
   "metadata": {},
   "outputs": [],
   "source": [
    "fold3['Label'] = fold3['eid']"
   ]
  },
  {
   "cell_type": "code",
   "execution_count": 98,
   "id": "5c0de26a-516b-4551-b102-03cb9a3891fe",
   "metadata": {},
   "outputs": [],
   "source": [
    "fold3['Label'] = fold3['Label'].str.replace('_thickness','')"
   ]
  },
  {
   "cell_type": "code",
   "execution_count": 99,
   "id": "e40a22d6-4c8d-4d54-998b-03d75f2e3c6e",
   "metadata": {},
   "outputs": [],
   "source": [
    "df_f3 = pd.merge(df3, fold3, how='right')"
   ]
  },
  {
   "cell_type": "code",
   "execution_count": 145,
   "id": "b8e0760c-f989-4892-9740-5c9393dd6e86",
   "metadata": {},
   "outputs": [],
   "source": [
    "df_f3['fold'] = 3"
   ]
  },
  {
   "cell_type": "code",
   "execution_count": 146,
   "id": "880c915b-e067-44bd-b18a-6f4a6edde9e2",
   "metadata": {},
   "outputs": [],
   "source": [
    "df_f3.to_csv('merged_fold3_FS_LUT.csv', index=False)"
   ]
  },
  {
   "cell_type": "code",
   "execution_count": 101,
   "id": "7b930091-6f4f-4805-8461-74383bbbe428",
   "metadata": {},
   "outputs": [],
   "source": [
    "fold4 = pd.read_csv('../../Desktop/resampling/resample_4/lifespan_29K_82sites_train/blr_metrics.csv')"
   ]
  },
  {
   "cell_type": "code",
   "execution_count": 102,
   "id": "143e4451-ab8c-4a63-90c8-f6ad99fe150a",
   "metadata": {},
   "outputs": [],
   "source": [
    "fold4['Label'] = fold4['eid']"
   ]
  },
  {
   "cell_type": "code",
   "execution_count": 103,
   "id": "14c0dd70-a1fd-40c2-a129-c42828eaa772",
   "metadata": {},
   "outputs": [],
   "source": [
    "fold4['Label'] = fold4['Label'].str.replace('_thickness','')"
   ]
  },
  {
   "cell_type": "code",
   "execution_count": 104,
   "id": "5600b81f-a75d-4bbf-b0fa-910cbf462897",
   "metadata": {},
   "outputs": [],
   "source": [
    "df_f4 = pd.merge(df3, fold4, how='right')"
   ]
  },
  {
   "cell_type": "code",
   "execution_count": 143,
   "id": "70a2bb10-3d13-4071-afed-c508a4845694",
   "metadata": {},
   "outputs": [],
   "source": [
    "df_f4['fold'] = 4"
   ]
  },
  {
   "cell_type": "code",
   "execution_count": 144,
   "id": "005f8644-981d-4c0b-b701-1cb2d42a376f",
   "metadata": {},
   "outputs": [],
   "source": [
    "df_f4.to_csv('merged_fold4_FS_LUT.csv', index=False)"
   ]
  },
  {
   "cell_type": "code",
   "execution_count": 106,
   "id": "fc855849-76d0-435c-bde4-fa57a93c02d7",
   "metadata": {},
   "outputs": [],
   "source": [
    "fold5 = pd.read_csv('../../Desktop/resampling/resample_5/lifespan_29K_82sites_train/blr_metrics.csv')"
   ]
  },
  {
   "cell_type": "code",
   "execution_count": 107,
   "id": "9e3f4395-56bf-4823-9c16-347e7f4fbe73",
   "metadata": {},
   "outputs": [],
   "source": [
    "fold5['Label'] = fold5['eid']"
   ]
  },
  {
   "cell_type": "code",
   "execution_count": 108,
   "id": "d58e5029-21ce-4f12-a844-ee5e24b0f662",
   "metadata": {},
   "outputs": [],
   "source": [
    "fold5['Label'] = fold5['Label'].str.replace('_thickness','')"
   ]
  },
  {
   "cell_type": "code",
   "execution_count": 109,
   "id": "30f5b08c-57db-4f5b-a034-4f636d5fcc7f",
   "metadata": {},
   "outputs": [],
   "source": [
    "df_f5 = pd.merge(df3, fold5, how='right')"
   ]
  },
  {
   "cell_type": "code",
   "execution_count": 141,
   "id": "2ac531bd-cd15-4cb2-97fe-0a77f02acfcc",
   "metadata": {},
   "outputs": [],
   "source": [
    "df_f5['fold'] = 5"
   ]
  },
  {
   "cell_type": "code",
   "execution_count": 142,
   "id": "c60f708c-4669-4643-8d4c-4af7d0cad624",
   "metadata": {},
   "outputs": [],
   "source": [
    "df_f5.to_csv('merged_fold5_FS_LUT.csv', index=False)"
   ]
  },
  {
   "cell_type": "code",
   "execution_count": 111,
   "id": "75da3e00-7e6d-47c0-a7d5-1972c1d61e3a",
   "metadata": {},
   "outputs": [],
   "source": [
    "fold6 = pd.read_csv('../../Desktop/resampling/resample_6/lifespan_29K_82sites_train/blr_metrics.csv')"
   ]
  },
  {
   "cell_type": "code",
   "execution_count": 112,
   "id": "8e63de88-1490-4a77-97c3-99e1e4fcd64f",
   "metadata": {},
   "outputs": [],
   "source": [
    "fold6['Label'] = fold6['eid']"
   ]
  },
  {
   "cell_type": "code",
   "execution_count": 113,
   "id": "8e57686b-fd7e-477d-b1df-083a8e164890",
   "metadata": {},
   "outputs": [],
   "source": [
    "fold6['Label'] = fold6['Label'].str.replace('_thickness','')"
   ]
  },
  {
   "cell_type": "code",
   "execution_count": 114,
   "id": "ab16012d-39ef-4275-b96c-0776975c81b6",
   "metadata": {},
   "outputs": [],
   "source": [
    "df_f6 = pd.merge(df3, fold6, how='right')"
   ]
  },
  {
   "cell_type": "code",
   "execution_count": 139,
   "id": "dc0f08b6-02a6-420c-b652-706a1b7796e0",
   "metadata": {},
   "outputs": [],
   "source": [
    "df_f6['fold'] = 6"
   ]
  },
  {
   "cell_type": "code",
   "execution_count": 140,
   "id": "dcbf73dc-977b-4d15-9f25-6cb377d0f4cd",
   "metadata": {},
   "outputs": [],
   "source": [
    "df_f6.to_csv('merged_fold6_FS_LUT.csv', index=False)"
   ]
  },
  {
   "cell_type": "code",
   "execution_count": 116,
   "id": "b0d82165-97dc-42ad-8817-691e7bcd4922",
   "metadata": {},
   "outputs": [],
   "source": [
    "fold7 = pd.read_csv('../../Desktop/resampling/resample_7/lifespan_29K_82sites_train/blr_metrics.csv')"
   ]
  },
  {
   "cell_type": "code",
   "execution_count": 117,
   "id": "354b57f0-c703-469a-88cf-b0005b93f4eb",
   "metadata": {},
   "outputs": [],
   "source": [
    "fold7['Label'] = fold7['eid']"
   ]
  },
  {
   "cell_type": "code",
   "execution_count": 118,
   "id": "9158a2d8-c22c-4d31-b13e-0a124673d295",
   "metadata": {},
   "outputs": [],
   "source": [
    "fold7['Label'] = fold7['Label'].str.replace('_thickness','')"
   ]
  },
  {
   "cell_type": "code",
   "execution_count": 119,
   "id": "d2ce8d62-389a-4069-b405-03f705af29f8",
   "metadata": {},
   "outputs": [],
   "source": [
    "df_f7 = pd.merge(df3, fold7, how='right')"
   ]
  },
  {
   "cell_type": "code",
   "execution_count": 137,
   "id": "a72ad23f-7379-462b-9f2d-a1ca427ba267",
   "metadata": {},
   "outputs": [],
   "source": [
    "df_f7['fold'] = 7"
   ]
  },
  {
   "cell_type": "code",
   "execution_count": 138,
   "id": "a37b4572-4233-4d87-99e5-d830755fa90c",
   "metadata": {},
   "outputs": [],
   "source": [
    "df_f7.to_csv('merged_fold7_FS_LUT.csv', index=False)"
   ]
  },
  {
   "cell_type": "code",
   "execution_count": 121,
   "id": "4a02e416-84cb-40cc-afc1-08a7417f80c9",
   "metadata": {},
   "outputs": [],
   "source": [
    "fold8 = pd.read_csv('../../Desktop/resampling/resample_8/lifespan_29K_82sites_train/blr_metrics.csv')"
   ]
  },
  {
   "cell_type": "code",
   "execution_count": 122,
   "id": "27e6a6d7-604e-4e78-9ec3-10de7542b478",
   "metadata": {},
   "outputs": [],
   "source": [
    "fold8['Label'] = fold8['eid']"
   ]
  },
  {
   "cell_type": "code",
   "execution_count": 123,
   "id": "4e9f9eb2-69ff-4e84-9c3c-14644a73c83d",
   "metadata": {},
   "outputs": [],
   "source": [
    "fold8['Label'] = fold8['Label'].str.replace('_thickness','')"
   ]
  },
  {
   "cell_type": "code",
   "execution_count": 124,
   "id": "4944c176-c800-4b4c-a0a7-e74be08f240d",
   "metadata": {},
   "outputs": [],
   "source": [
    "df_f8 = pd.merge(df3, fold8, how='right')"
   ]
  },
  {
   "cell_type": "code",
   "execution_count": 135,
   "id": "e9b07ba9-14b5-4e1e-b459-5f73f9139cce",
   "metadata": {},
   "outputs": [],
   "source": [
    "df_f8['fold'] = 8"
   ]
  },
  {
   "cell_type": "code",
   "execution_count": 136,
   "id": "fc5e1b9b-f909-4c38-a2d1-63cce6c40992",
   "metadata": {},
   "outputs": [],
   "source": [
    "df_f8.to_csv('merged_fold8_FS_LUT.csv', index=False)"
   ]
  },
  {
   "cell_type": "code",
   "execution_count": 126,
   "id": "bae2681c-5756-4ecb-85df-72eeefd1be96",
   "metadata": {},
   "outputs": [],
   "source": [
    "fold9 = pd.read_csv('../../Desktop/resampling/resample_9/lifespan_29K_82sites_train/blr_metrics.csv')"
   ]
  },
  {
   "cell_type": "code",
   "execution_count": 127,
   "id": "bcd4e934-65f7-4c4e-a5fb-9a30aedd0b5b",
   "metadata": {},
   "outputs": [],
   "source": [
    "fold9['Label'] = fold9['eid']"
   ]
  },
  {
   "cell_type": "code",
   "execution_count": 128,
   "id": "262c37fe-0349-4a85-a65e-5398c6188883",
   "metadata": {},
   "outputs": [],
   "source": [
    "fold9['Label'] = fold9['Label'].str.replace('_thickness','')"
   ]
  },
  {
   "cell_type": "code",
   "execution_count": 129,
   "id": "c07905b9-f8d8-43a0-a19b-d54a28c8a18a",
   "metadata": {},
   "outputs": [],
   "source": [
    "df_f9 = pd.merge(df3, fold9, how='right')"
   ]
  },
  {
   "cell_type": "code",
   "execution_count": 132,
   "id": "570974ce-44f1-46b4-b55a-3d98447480dd",
   "metadata": {},
   "outputs": [],
   "source": [
    "df_f9['fold'] = 9"
   ]
  },
  {
   "cell_type": "code",
   "execution_count": 134,
   "id": "682d9bbb-f58a-4699-a501-70a812769e68",
   "metadata": {},
   "outputs": [],
   "source": [
    "df_f9.to_csv('merged_fold9_FS_LUT.csv', index=False)"
   ]
  },
  {
   "cell_type": "code",
   "execution_count": 153,
   "id": "08652a09-0789-472f-b0b6-147807f2cb85",
   "metadata": {},
   "outputs": [],
   "source": [
    "df_f01 = pd.merge(df_f0, df_f1, how='outer')"
   ]
  },
  {
   "cell_type": "code",
   "execution_count": 160,
   "id": "c6c4e932-ed7e-4115-85ab-d06e0c89cc5d",
   "metadata": {},
   "outputs": [],
   "source": [
    "df_f012 = pd.merge(df_f01, df_f2, how='outer')"
   ]
  },
  {
   "cell_type": "code",
   "execution_count": 161,
   "id": "14cc2213-a915-487f-86e1-725fe17f5cd9",
   "metadata": {},
   "outputs": [],
   "source": [
    "df_f0123 = pd.merge(df_f012, df_f3, how='outer')"
   ]
  },
  {
   "cell_type": "code",
   "execution_count": 162,
   "id": "08b2c140-7ca1-4cc0-9489-5e2357d44a6e",
   "metadata": {},
   "outputs": [],
   "source": [
    "df_f01234 = pd.merge(df_f0123, df_f4, how='outer')"
   ]
  },
  {
   "cell_type": "code",
   "execution_count": 163,
   "id": "99353569-58b8-4690-8f0a-889d6482e9b7",
   "metadata": {},
   "outputs": [],
   "source": [
    "df_f012345 = pd.merge(df_f01234, df_f5, how='outer')"
   ]
  },
  {
   "cell_type": "code",
   "execution_count": 164,
   "id": "a94fd541-ae26-4b13-91e2-5016c01eac18",
   "metadata": {},
   "outputs": [],
   "source": [
    "df_f0123456 = pd.merge(df_f012345, df_f6, how='outer')"
   ]
  },
  {
   "cell_type": "code",
   "execution_count": 165,
   "id": "8aeac38f-433b-4c78-b6fc-f01b0a8c896d",
   "metadata": {},
   "outputs": [],
   "source": [
    "df_f01234567 = pd.merge(df_f0123456, df_f7, how='outer')"
   ]
  },
  {
   "cell_type": "code",
   "execution_count": 166,
   "id": "dbcaaa32-070a-4235-8601-6e01c9f8d9b5",
   "metadata": {},
   "outputs": [],
   "source": [
    "df_f012345678 = pd.merge(df_f01234567, df_f8, how='outer')"
   ]
  },
  {
   "cell_type": "code",
   "execution_count": 168,
   "id": "5b383cf2-26c7-4a77-a055-7fb1ace2780c",
   "metadata": {},
   "outputs": [],
   "source": [
    "df_folds = pd.merge(df_f012345678, df_f9, how='outer')"
   ]
  },
  {
   "cell_type": "code",
   "execution_count": null,
   "id": "2d4d8a2c-86fe-4305-a0e9-1a111095f78f",
   "metadata": {},
   "outputs": [],
   "source": [
    "df_folds"
   ]
  },
  {
   "cell_type": "code",
   "execution_count": 170,
   "id": "684f3abf-b31c-4a88-9162-46ebfd0aa560",
   "metadata": {},
   "outputs": [],
   "source": [
    "import seaborn as sns"
   ]
  },
  {
   "cell_type": "code",
   "execution_count": 188,
   "id": "f1a5a8c2-8f78-411f-85f8-6b8652972d2e",
   "metadata": {},
   "outputs": [],
   "source": [
    "df_folds_EVsort = df_folds.sort_values(by=['EV'])"
   ]
  },
  {
   "cell_type": "code",
   "execution_count": 248,
   "id": "f6eaf292-0fab-4bdb-90ea-f7e880c051b6",
   "metadata": {},
   "outputs": [],
   "source": [
    "df_folds_MSLLsort = df_folds.sort_values(by=['MSLL'])"
   ]
  },
  {
   "cell_type": "code",
   "execution_count": 249,
   "id": "348e6f7a-a927-40fe-a61d-e92c16159789",
   "metadata": {},
   "outputs": [],
   "source": [
    "df_folds_Skewsort = df_folds.sort_values(by=['Skew'])"
   ]
  },
  {
   "cell_type": "code",
   "execution_count": 250,
   "id": "1239d94b-6aa3-4f80-862f-9de2d83f7faa",
   "metadata": {},
   "outputs": [],
   "source": [
    "df_folds_Kurtosissort = df_folds.sort_values(by=['Kurtosis'])"
   ]
  },
  {
   "cell_type": "code",
   "execution_count": 204,
   "id": "0a863166-c0f8-442e-99e8-0c80a5711a55",
   "metadata": {},
   "outputs": [],
   "source": [
    "df_folds_EVsort.dropna(inplace=True)"
   ]
  },
  {
   "cell_type": "code",
   "execution_count": 255,
   "id": "b644d2f6-b607-47ac-8ae6-590ad32fb07b",
   "metadata": {},
   "outputs": [],
   "source": [
    "df_folds['IMG_URL'] = \"https://raw.githubusercontent.com/saigerutherford/main/3dbrainplot/ROI_img/\" + df_folds['Label'] + \".png\""
   ]
  },
  {
   "cell_type": "code",
   "execution_count": null,
   "id": "d2cdaac6-c535-43b1-bfb1-3dcf933a69a5",
   "metadata": {},
   "outputs": [],
   "source": [
    "sns.set(font_scale=0.7)\n",
    "sns.set_theme(style=\"whitegrid\")\n",
    "fig, ax = plt.subplots(figsize=(32, 10))\n",
    "sns.scatterplot(data=df_folds_Kurtosissort, x=\"Label\", y=\"Kurtosis\", ax=ax)\n",
    "plt.xticks(rotation = 90)\n",
    "ax.set_xlabel(\"\")\n",
    "ax.set_ylabel(\"Kurtosis\")\n",
    "plt.show()"
   ]
  },
  {
   "cell_type": "code",
   "execution_count": null,
   "id": "cc469858-f7a9-4317-a4a0-90105c2cd582",
   "metadata": {},
   "outputs": [],
   "source": [
    "sns.set(font_scale=0.8)\n",
    "sns.set_theme(style=\"whitegrid\")\n",
    "fig, ax = plt.subplots(figsize=(32, 10))\n",
    "sns.scatterplot(data=df_folds_Skewsort, x=\"Label\", y=\"Skew\", ax=ax)\n",
    "plt.xticks(rotation = 90)\n",
    "ax.set_xlabel(\"\")\n",
    "ax.set_ylabel(\"Skew\")\n",
    "plt.show()"
   ]
  },
  {
   "cell_type": "code",
   "execution_count": null,
   "id": "9f8c5d64-d692-4ced-b257-03919815fcfb",
   "metadata": {},
   "outputs": [],
   "source": [
    "sns.set(font_scale=0.8)\n",
    "sns.set_theme(style=\"whitegrid\")\n",
    "fig, ax = plt.subplots(figsize=(32, 10))\n",
    "sns.scatterplot(data=df_folds_MSLLsort, x=\"Label\", y=\"MSLL\", ax=ax)\n",
    "plt.xticks(rotation = 90)\n",
    "ax.set_xlabel(\"\")\n",
    "ax.set_ylabel(\"Mean Standardized Log Loss\")\n",
    "plt.show()"
   ]
  },
  {
   "cell_type": "code",
   "execution_count": null,
   "id": "8ef447b1-3bad-4fe3-a734-20c50f0499f5",
   "metadata": {},
   "outputs": [],
   "source": [
    "sns.set(font_scale=0.8)\n",
    "sns.set_theme(style=\"whitegrid\")\n",
    "fig, ax = plt.subplots(figsize=(32, 10))\n",
    "sns.scatterplot(data=df_folds_EVsort, x=\"Label\", y=\"EV\", ax=ax)\n",
    "plt.xticks(rotation = 90)\n",
    "ax.set_xlabel(\"\")\n",
    "ax.set_ylabel(\"Explained Variance\")\n",
    "plt.show()"
   ]
  }
 ],
 "metadata": {
  "kernelspec": {
   "display_name": "Python 3 (ipykernel)",
   "language": "python",
   "name": "python3"
  },
  "language_info": {
   "codemirror_mode": {
    "name": "ipython",
    "version": 3
   },
   "file_extension": ".py",
   "mimetype": "text/x-python",
   "name": "python",
   "nbconvert_exporter": "python",
   "pygments_lexer": "ipython3",
   "version": "3.9.7"
  }
 },
 "nbformat": 4,
 "nbformat_minor": 5
}
