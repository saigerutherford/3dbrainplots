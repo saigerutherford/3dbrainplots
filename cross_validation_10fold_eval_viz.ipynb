{
  "nbformat": 4,
  "nbformat_minor": 0,
  "metadata": {
    "colab": {
      "name": "cross_validation_10fold_eval_viz",
      "provenance": [],
      "collapsed_sections": []
    },
    "kernelspec": {
      "name": "python3",
      "display_name": "Python 3"
    },
    "language_info": {
      "name": "python"
    }
  },
  "cells": [
    {
      "cell_type": "code",
      "metadata": {
        "id": "ZdiI7rm7X6Tl"
      },
      "source": [
        "!pip install --q dash==2.0.0 jupyter-dash==0.4.0;"
      ],
      "execution_count": 2,
      "outputs": []
    },
    {
      "cell_type": "code",
      "metadata": {
        "id": "9vwghilrXnsg",
        "outputId": "f46f1c4e-00da-4bd2-f778-01682c132362",
        "colab": {
          "base_uri": "https://localhost:8080/"
        }
      },
      "source": [
        "!wget -nc 'https://raw.githubusercontent.com/saigerutherford/3dbrainplots/main/cross_validation_10fold_evaluation.csv'"
      ],
      "execution_count": 3,
      "outputs": [
        {
          "output_type": "stream",
          "name": "stdout",
          "text": [
            "--2021-12-08 18:41:20--  https://raw.githubusercontent.com/saigerutherford/3dbrainplots/main/cross_validation_10fold_evaluation.csv\n",
            "Resolving raw.githubusercontent.com (raw.githubusercontent.com)... 185.199.109.133, 185.199.108.133, 185.199.111.133, ...\n",
            "Connecting to raw.githubusercontent.com (raw.githubusercontent.com)|185.199.109.133|:443... connected.\n",
            "HTTP request sent, awaiting response... 200 OK\n",
            "Length: 566347 (553K) [text/plain]\n",
            "Saving to: ‘cross_validation_10fold_evaluation.csv’\n",
            "\n",
            "cross_validation_10 100%[===================>] 553.07K  --.-KB/s    in 0.03s   \n",
            "\n",
            "2021-12-08 18:41:21 (16.8 MB/s) - ‘cross_validation_10fold_evaluation.csv’ saved [566347/566347]\n",
            "\n"
          ]
        }
      ]
    },
    {
      "cell_type": "code",
      "source": [
        "from jupyter_dash import JupyterDash\n",
        "from dash import dcc, html, Input, Output, no_update\n",
        "import plotly.graph_objects as go\n",
        "import pandas as pd\n",
        "import plotly.io as pio"
      ],
      "metadata": {
        "id": "HcDkI5Uh8La-"
      },
      "execution_count": 17,
      "outputs": []
    },
    {
      "cell_type": "code",
      "source": [
        "data_path = 'cross_validation_10fold_evaluation.csv'\n",
        "\n",
        "df = pd.read_csv(data_path)\n",
        "df = df.sort_values(by=\"Label\")"
      ],
      "metadata": {
        "id": "XEIWWYjT-7Om"
      },
      "execution_count": 27,
      "outputs": []
    },
    {
      "cell_type": "code",
      "metadata": {
        "colab": {
          "base_uri": "https://localhost:8080/",
          "height": 671
        },
        "id": "o9-G8EYeXd4d",
        "outputId": "75060621-69d1-4f4c-aa77-09e8523859eb"
      },
      "source": [
        "colors = {\n",
        "    'background': '#111111',\n",
        "    'text': '#7FDBFF'\n",
        "}\n",
        "\n",
        "fig = go.Figure(data=[\n",
        "    go.Scatter(\n",
        "        x=df[\"Label\"],\n",
        "        y=df[\"EV\"],\n",
        "        mode=\"markers\",\n",
        "        marker=dict(\n",
        "            colorscale='plasma',\n",
        "            color=df[\"EV\"],\n",
        "            size=12,\n",
        "            line=dict(width=0.8, color='DarkSlateGrey'),\n",
        "            colorbar={\"title\": \"Explained<br>Variance\"},\n",
        "            reversescale=True,\n",
        "            opacity=0.8,\n",
        "        )\n",
        "    )\n",
        "])\n",
        "\n",
        "# turn off native plotly.js hover effects - make sure to use\n",
        "# hoverinfo=\"none\" rather than \"skip\" which also halts events.\n",
        "fig.update_traces(hoverinfo=\"none\", hovertemplate=None)\n",
        "\n",
        "fig.update_yaxes(showgrid=True, gridwidth=1, gridcolor='LightGray')\n",
        "\n",
        "fig.update_layout(\n",
        "    xaxis=dict(title='ROI', showticklabels=False),\n",
        "    yaxis=dict(title='Explained Variance (EV)', showgrid=True),\n",
        "    plot_bgcolor=colors['background'],\n",
        "    paper_bgcolor=colors['background'],\n",
        "    font_color=colors['text'],\n",
        "    autosize=False,\n",
        "    width=1600,\n",
        "    height=800\n",
        ")\n",
        "\n",
        "app = JupyterDash(__name__)\n",
        "\n",
        "app.layout = html.Div([\n",
        "    dcc.Graph(id=\"graph\", figure=fig, clear_on_unhover=True),\n",
        "    dcc.Tooltip(id=\"graph-tooltip\"),\n",
        "])\n",
        "\n",
        "\n",
        "@app.callback(\n",
        "    Output(\"graph-tooltip\", \"show\"),\n",
        "    Output(\"graph-tooltip\", \"bbox\"),\n",
        "    Output(\"graph-tooltip\", \"children\"),\n",
        "    Input(\"graph\", \"hoverData\"),\n",
        ")\n",
        "def display_hover(hoverData):\n",
        "    if hoverData is None:\n",
        "        return False, no_update, no_update\n",
        "\n",
        "    # demo only shows the first point, but other points may also be available\n",
        "    pt = hoverData[\"points\"][0]\n",
        "    bbox = pt[\"bbox\"]\n",
        "    num = pt[\"pointNumber\"]\n",
        "\n",
        "    df_row = df.iloc[num]\n",
        "    img_src = df_row['IMG_URL']\n",
        "    name = df_row['Label']\n",
        "    ev = \"Explained Variance = \" + df_row['EV'].round(3).astype(str)\n",
        "\n",
        "\n",
        "    children = [\n",
        "        html.Div(children=[\n",
        "            html.Img(src=img_src, style={\"width\": \"100%\"}),\n",
        "            html.H2(f\"{name}\", style={\"color\": \"darkblue\"}),\n",
        "            html.P(f\"{ev}\"),\n",
        "        ],\n",
        "        style={'width': '300px', 'white-space': 'normal'})\n",
        "    ]\n",
        "\n",
        "    return True, bbox, children\n",
        "\n",
        "\n",
        "if __name__ == \"__main__\":\n",
        "    app.run_server(debug=True, mode='inline')"
      ],
      "execution_count": 49,
      "outputs": [
        {
          "output_type": "display_data",
          "data": {
            "application/javascript": [
              "(async (port, path, width, height, cache, element) => {\n",
              "    if (!google.colab.kernel.accessAllowed && !cache) {\n",
              "      return;\n",
              "    }\n",
              "    element.appendChild(document.createTextNode(''));\n",
              "    const url = await google.colab.kernel.proxyPort(port, {cache});\n",
              "    const iframe = document.createElement('iframe');\n",
              "    iframe.src = new URL(path, url).toString();\n",
              "    iframe.height = height;\n",
              "    iframe.width = width;\n",
              "    iframe.style.border = 0;\n",
              "    element.appendChild(iframe);\n",
              "  })(8050, \"/\", \"100%\", 650, false, window.element)"
            ],
            "text/plain": [
              "<IPython.core.display.Javascript object>"
            ]
          },
          "metadata": {}
        }
      ]
    },
    {
      "cell_type": "code",
      "source": [
        "fig = go.Figure(data=[\n",
        "    go.Scatter(\n",
        "        x=df[\"Label\"],\n",
        "        y=df[\"MSLL\"],\n",
        "        mode=\"markers\",\n",
        "        marker=dict(\n",
        "            colorscale='plasma',\n",
        "            color=df[\"MSLL\"],\n",
        "            size=12,\n",
        "            line=dict(width=0.8, color='DarkSlateGrey'),\n",
        "            colorbar={\"title\": \"Mean<br>Standardized<br>Log Loss\"},\n",
        "            reversescale=True,\n",
        "            opacity=0.8,\n",
        "        )\n",
        "    )\n",
        "])\n",
        "\n",
        "# turn off native plotly.js hover effects - make sure to use\n",
        "# hoverinfo=\"none\" rather than \"skip\" which also halts events.\n",
        "fig.update_traces(hoverinfo=\"none\", hovertemplate=None)\n",
        "\n",
        "fig.update_yaxes(showgrid=True, gridwidth=1, gridcolor='LightGray')\n",
        "\n",
        "fig.update_layout(\n",
        "    xaxis=dict(title='ROI', showticklabels=False),\n",
        "    yaxis=dict(title='Mean Standardized Log Loss (MSLL)', showgrid=True),\n",
        "    plot_bgcolor=colors['background'],\n",
        "    paper_bgcolor=colors['background'],\n",
        "    font_color=colors['text'],\n",
        "    autosize=False,\n",
        "    width=1600,\n",
        "    height=800\n",
        ")\n",
        "\n",
        "app = JupyterDash(__name__)\n",
        "\n",
        "app.layout = html.Div([\n",
        "    dcc.Graph(id=\"graph\", figure=fig, clear_on_unhover=True),\n",
        "    dcc.Tooltip(id=\"graph-tooltip\"),\n",
        "])\n",
        "\n",
        "\n",
        "@app.callback(\n",
        "    Output(\"graph-tooltip\", \"show\"),\n",
        "    Output(\"graph-tooltip\", \"bbox\"),\n",
        "    Output(\"graph-tooltip\", \"children\"),\n",
        "    Input(\"graph\", \"hoverData\"),\n",
        ")\n",
        "def display_hover(hoverData):\n",
        "    if hoverData is None:\n",
        "        return False, no_update, no_update\n",
        "\n",
        "    # demo only shows the first point, but other points may also be available\n",
        "    pt = hoverData[\"points\"][0]\n",
        "    bbox = pt[\"bbox\"]\n",
        "    num = pt[\"pointNumber\"]\n",
        "\n",
        "    df_row = df.iloc[num]\n",
        "    img_src = df_row['IMG_URL']\n",
        "    name = df_row['Label']\n",
        "    ev = \"MSLL = \" + df_row['MSLL'].round(3).astype(str)\n",
        "\n",
        "\n",
        "    children = [\n",
        "        html.Div(children=[\n",
        "            html.Img(src=img_src, style={\"width\": \"100%\"}),\n",
        "            html.H2(f\"{name}\", style={\"color\": \"darkblue\"}),\n",
        "            html.P(f\"{ev}\"),\n",
        "        ],\n",
        "        style={'width': '300px', 'white-space': 'normal'})\n",
        "    ]\n",
        "\n",
        "    return True, bbox, children\n",
        "\n",
        "\n",
        "if __name__ == \"__main__\":\n",
        "    app.run_server(debug=True, mode='inline')"
      ],
      "metadata": {
        "colab": {
          "base_uri": "https://localhost:8080/",
          "height": 671
        },
        "id": "v4Bh7vETAHxI",
        "outputId": "f8a4c609-7736-457c-a836-2cd6d13fb82a"
      },
      "execution_count": 46,
      "outputs": [
        {
          "output_type": "display_data",
          "data": {
            "application/javascript": [
              "(async (port, path, width, height, cache, element) => {\n",
              "    if (!google.colab.kernel.accessAllowed && !cache) {\n",
              "      return;\n",
              "    }\n",
              "    element.appendChild(document.createTextNode(''));\n",
              "    const url = await google.colab.kernel.proxyPort(port, {cache});\n",
              "    const iframe = document.createElement('iframe');\n",
              "    iframe.src = new URL(path, url).toString();\n",
              "    iframe.height = height;\n",
              "    iframe.width = width;\n",
              "    iframe.style.border = 0;\n",
              "    element.appendChild(iframe);\n",
              "  })(8050, \"/\", \"100%\", 650, false, window.element)"
            ],
            "text/plain": [
              "<IPython.core.display.Javascript object>"
            ]
          },
          "metadata": {}
        }
      ]
    },
    {
      "cell_type": "code",
      "source": [
        "fig = go.Figure(data=[\n",
        "    go.Scatter(\n",
        "        x=df[\"Label\"],\n",
        "        y=df[\"Skew\"],\n",
        "        mode=\"markers\",\n",
        "        marker=dict(\n",
        "            colorscale='plasma',\n",
        "            color=df[\"Skew\"],\n",
        "            size=12,\n",
        "            line=dict(width=0.8, color='DarkSlateGrey'),\n",
        "            colorbar={\"title\": \"Skew\"},\n",
        "            reversescale=True,\n",
        "            opacity=0.8,\n",
        "        )\n",
        "    )\n",
        "])\n",
        "\n",
        "# turn off native plotly.js hover effects - make sure to use\n",
        "# hoverinfo=\"none\" rather than \"skip\" which also halts events.\n",
        "fig.update_traces(hoverinfo=\"none\", hovertemplate=None)\n",
        "\n",
        "fig.update_yaxes(showgrid=True, gridwidth=1, gridcolor='LightGray')\n",
        "\n",
        "fig.update_layout(\n",
        "    xaxis=dict(title='ROI', showticklabels=False),\n",
        "    yaxis=dict(title='Skew', showgrid=True),\n",
        "    plot_bgcolor=colors['background'],\n",
        "    paper_bgcolor=colors['background'],\n",
        "    font_color=colors['text'],\n",
        "    autosize=False,\n",
        "    width=1600,\n",
        "    height=800\n",
        ")\n",
        "\n",
        "app = JupyterDash(__name__)\n",
        "\n",
        "app.layout = html.Div([\n",
        "    dcc.Graph(id=\"graph\", figure=fig, clear_on_unhover=True),\n",
        "    dcc.Tooltip(id=\"graph-tooltip\"),\n",
        "])\n",
        "\n",
        "\n",
        "@app.callback(\n",
        "    Output(\"graph-tooltip\", \"show\"),\n",
        "    Output(\"graph-tooltip\", \"bbox\"),\n",
        "    Output(\"graph-tooltip\", \"children\"),\n",
        "    Input(\"graph\", \"hoverData\"),\n",
        ")\n",
        "def display_hover(hoverData):\n",
        "    if hoverData is None:\n",
        "        return False, no_update, no_update\n",
        "\n",
        "    # demo only shows the first point, but other points may also be available\n",
        "    pt = hoverData[\"points\"][0]\n",
        "    bbox = pt[\"bbox\"]\n",
        "    num = pt[\"pointNumber\"]\n",
        "\n",
        "    df_row = df.iloc[num]\n",
        "    img_src = df_row['IMG_URL']\n",
        "    name = df_row['Label']\n",
        "    ev = \"Skew = \" + df_row['Skew'].round(3).astype(str)\n",
        "\n",
        "\n",
        "    children = [\n",
        "        html.Div(children=[\n",
        "            html.Img(src=img_src, style={\"width\": \"100%\"}),\n",
        "            html.H2(f\"{name}\", style={\"color\": \"darkblue\"}),\n",
        "            html.P(f\"{ev}\"),\n",
        "        ],\n",
        "        style={'width': '300px', 'white-space': 'normal'})\n",
        "    ]\n",
        "\n",
        "    return True, bbox, children\n",
        "\n",
        "\n",
        "if __name__ == \"__main__\":\n",
        "    app.run_server(debug=True, mode='inline')"
      ],
      "metadata": {
        "colab": {
          "base_uri": "https://localhost:8080/",
          "height": 671
        },
        "id": "m_l_OGlCAiHh",
        "outputId": "d8835af5-557c-496b-be1b-475515069c35"
      },
      "execution_count": 47,
      "outputs": [
        {
          "output_type": "display_data",
          "data": {
            "application/javascript": [
              "(async (port, path, width, height, cache, element) => {\n",
              "    if (!google.colab.kernel.accessAllowed && !cache) {\n",
              "      return;\n",
              "    }\n",
              "    element.appendChild(document.createTextNode(''));\n",
              "    const url = await google.colab.kernel.proxyPort(port, {cache});\n",
              "    const iframe = document.createElement('iframe');\n",
              "    iframe.src = new URL(path, url).toString();\n",
              "    iframe.height = height;\n",
              "    iframe.width = width;\n",
              "    iframe.style.border = 0;\n",
              "    element.appendChild(iframe);\n",
              "  })(8050, \"/\", \"100%\", 650, false, window.element)"
            ],
            "text/plain": [
              "<IPython.core.display.Javascript object>"
            ]
          },
          "metadata": {}
        }
      ]
    },
    {
      "cell_type": "code",
      "source": [
        "fig = go.Figure(data=[\n",
        "    go.Scatter(\n",
        "        x=df[\"Label\"],\n",
        "        y=df[\"Kurtosis\"],\n",
        "        mode=\"markers\",\n",
        "        marker=dict(\n",
        "            colorscale='plasma',\n",
        "            color=df[\"Kurtosis\"],\n",
        "            size=12,\n",
        "            line=dict(width=0.8, color='DarkSlateGrey'),\n",
        "            colorbar={\"title\": \"Kurtosis\"},\n",
        "            reversescale=True,\n",
        "            opacity=0.8,\n",
        "        )\n",
        "    )\n",
        "])\n",
        "\n",
        "# turn off native plotly.js hover effects - make sure to use\n",
        "# hoverinfo=\"none\" rather than \"skip\" which also halts events.\n",
        "fig.update_traces(hoverinfo=\"none\", hovertemplate=None)\n",
        "\n",
        "fig.update_yaxes(showgrid=True, gridwidth=1, gridcolor='LightGray')\n",
        "\n",
        "fig.update_layout(\n",
        "    xaxis=dict(title='ROI', showticklabels=False),\n",
        "    yaxis=dict(title='Kurtosis', showgrid=True),\n",
        "    plot_bgcolor=colors['background'],\n",
        "    paper_bgcolor=colors['background'],\n",
        "    font_color=colors['text'],\n",
        "    autosize=False,\n",
        "    width=1600,\n",
        "    height=800\n",
        ")\n",
        "\n",
        "app = JupyterDash(__name__)\n",
        "\n",
        "app.layout = html.Div([\n",
        "    dcc.Graph(id=\"graph\", figure=fig, clear_on_unhover=True),\n",
        "    dcc.Tooltip(id=\"graph-tooltip\"),\n",
        "])\n",
        "\n",
        "\n",
        "@app.callback(\n",
        "    Output(\"graph-tooltip\", \"show\"),\n",
        "    Output(\"graph-tooltip\", \"bbox\"),\n",
        "    Output(\"graph-tooltip\", \"children\"),\n",
        "    Input(\"graph\", \"hoverData\"),\n",
        ")\n",
        "def display_hover(hoverData):\n",
        "    if hoverData is None:\n",
        "        return False, no_update, no_update\n",
        "\n",
        "    # demo only shows the first point, but other points may also be available\n",
        "    pt = hoverData[\"points\"][0]\n",
        "    bbox = pt[\"bbox\"]\n",
        "    num = pt[\"pointNumber\"]\n",
        "\n",
        "    df_row = df.iloc[num]\n",
        "    img_src = df_row['IMG_URL']\n",
        "    name = df_row['Label']\n",
        "    ev = \"Kurtosis = \" + df_row['Kurtosis'].round(3).astype(str)\n",
        "\n",
        "\n",
        "    children = [\n",
        "        html.Div(children=[\n",
        "            html.Img(src=img_src, style={\"width\": \"100%\"}),\n",
        "            html.H2(f\"{name}\", style={\"color\": \"darkblue\"}),\n",
        "            html.P(f\"{ev}\"),\n",
        "        ],\n",
        "        style={'width': '300px', 'white-space': 'normal'})\n",
        "    ]\n",
        "\n",
        "    return True, bbox, children\n",
        "\n",
        "\n",
        "if __name__ == \"__main__\":\n",
        "    app.run_server(debug=True, mode='inline')"
      ],
      "metadata": {
        "colab": {
          "base_uri": "https://localhost:8080/",
          "height": 671
        },
        "id": "yIiAxUIhFis8",
        "outputId": "2c360870-6565-493d-86ea-d3ae2dfb4398"
      },
      "execution_count": 48,
      "outputs": [
        {
          "output_type": "display_data",
          "data": {
            "application/javascript": [
              "(async (port, path, width, height, cache, element) => {\n",
              "    if (!google.colab.kernel.accessAllowed && !cache) {\n",
              "      return;\n",
              "    }\n",
              "    element.appendChild(document.createTextNode(''));\n",
              "    const url = await google.colab.kernel.proxyPort(port, {cache});\n",
              "    const iframe = document.createElement('iframe');\n",
              "    iframe.src = new URL(path, url).toString();\n",
              "    iframe.height = height;\n",
              "    iframe.width = width;\n",
              "    iframe.style.border = 0;\n",
              "    element.appendChild(iframe);\n",
              "  })(8050, \"/\", \"100%\", 650, false, window.element)"
            ],
            "text/plain": [
              "<IPython.core.display.Javascript object>"
            ]
          },
          "metadata": {}
        }
      ]
    },
    {
      "cell_type": "code",
      "source": [
        ""
      ],
      "metadata": {
        "id": "adDwWvz4F2g9"
      },
      "execution_count": null,
      "outputs": []
    }
  ]
}