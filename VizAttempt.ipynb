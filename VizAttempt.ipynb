{
 "cells": [
  {
   "cell_type": "code",
   "execution_count": 1,
   "id": "02929c00-6cbf-4aef-b24d-b065f1957ddd",
   "metadata": {},
   "outputs": [
    {
     "data": {
      "application/javascript": [
       "IPython.OutputArea.auto_scroll_threshold = 9999;\n"
      ],
      "text/plain": [
       "<IPython.core.display.Javascript object>"
      ]
     },
     "metadata": {},
     "output_type": "display_data"
    }
   ],
   "source": [
    "%%javascript\n",
    "IPython.OutputArea.auto_scroll_threshold = 9999;"
   ]
  },
  {
   "cell_type": "code",
   "execution_count": 2,
   "id": "3d744710-911f-48a9-9323-0755ae9ab95b",
   "metadata": {},
   "outputs": [],
   "source": [
    "# another cell\n",
    "import matplotlib.pyplot as plt\n",
    "%matplotlib inline"
   ]
  },
  {
   "cell_type": "code",
   "execution_count": 3,
   "id": "9270d968-5b99-4202-9c10-73cd77163c02",
   "metadata": {},
   "outputs": [],
   "source": [
    "import pickle\n",
    "import matplotlib.image as img\n",
    "import os\n",
    "import numpy as np"
   ]
  },
  {
   "cell_type": "code",
   "execution_count": null,
   "id": "09fdf7df-2556-4160-9fe8-e76e88547ac8",
   "metadata": {},
   "outputs": [],
   "source": [
    "ImagesDir = 'nil_img/'\n",
    "imageFiles = [file for file in os.listdir(ImagesDir)]"
   ]
  },
  {
   "cell_type": "code",
   "execution_count": 77,
   "id": "69b4bd78-bd67-4bfd-8e33-91d67666db18",
   "metadata": {},
   "outputs": [],
   "source": [
    "ims = []\n",
    "for i in range(len(imageFiles)):\n",
    "    imageFile = imageFiles[i]\n",
    "    image = ImagesDir + imageFile\n",
    "    im = img.imread(image)\n",
    "    ims.append(im)"
   ]
  },
  {
   "cell_type": "code",
   "execution_count": 82,
   "id": "41e129d4-5a67-4375-afa7-224cb338311a",
   "metadata": {},
   "outputs": [],
   "source": [
    "ims_array = np.array(ims)"
   ]
  },
  {
   "cell_type": "code",
   "execution_count": 84,
   "id": "dbb5493d-bf70-4e0e-9465-b32fc80b7c39",
   "metadata": {},
   "outputs": [
    {
     "data": {
      "text/plain": [
       "(168, 187, 475, 4)"
      ]
     },
     "execution_count": 84,
     "metadata": {},
     "output_type": "execute_result"
    }
   ],
   "source": [
    "ims_array.shape"
   ]
  },
  {
   "cell_type": "code",
   "execution_count": 85,
   "id": "58707f2a-9114-4af4-8dfa-318307970b8b",
   "metadata": {},
   "outputs": [],
   "source": [
    "# Write to file.\n",
    "file = open(\"nilearnimages.pkl\", \"wb\")\n",
    "pickle.dump(ims_array, file)\n",
    "file.close()"
   ]
  },
  {
   "cell_type": "code",
   "execution_count": null,
   "id": "11f45cd0-0e28-403a-93ed-84f34abb8bc5",
   "metadata": {
    "tags": []
   },
   "outputs": [],
   "source": [
    "fig = px.scatter_3d(df_f0, x='R', y='A', z='S', hover_name='Label', \n",
    "              color='EV', opacity=0.7, width=1000, height=800)\n",
    "\n",
    "\n",
    "# tight layout\n",
    "fig.update_layout(margin=dict(l=0, r=0, b=0, t=0))\n",
    "fig.update_layout(coloraxis_colorbar_x=-0.15)\n",
    "fig.show()"
   ]
  },
  {
   "cell_type": "code",
   "execution_count": 5,
   "id": "52d308c4-45a4-4ba6-ba04-af3da167c5ae",
   "metadata": {},
   "outputs": [],
   "source": [
    "import pandas as pd"
   ]
  },
  {
   "cell_type": "code",
   "execution_count": 6,
   "id": "5cd108ba-e47d-497c-9c01-daee84d86be4",
   "metadata": {},
   "outputs": [],
   "source": [
    "df = pd.read_csv('../../Desktop/FS_LUT.csv')\n",
    "df2 = pd.read_csv('../../Desktop/aparc_aseg_xyz.csv')"
   ]
  },
  {
   "cell_type": "code",
   "execution_count": 7,
   "id": "f5c24c10-b99c-41b1-9bdf-7c88208d7c63",
   "metadata": {},
   "outputs": [],
   "source": [
    "df3 = pd.merge(df, df2, how='inner')"
   ]
  },
  {
   "cell_type": "code",
   "execution_count": null,
   "id": "56c7dbb1-2d18-4d18-9daf-479687b2a1b8",
   "metadata": {},
   "outputs": [],
   "source": [
    "df3"
   ]
  },
  {
   "cell_type": "code",
   "execution_count": 8,
   "id": "582ed274-8d61-414c-a01e-dd5235127328",
   "metadata": {},
   "outputs": [],
   "source": [
    "fold0 = pd.read_csv('../../Desktop/resampling/resample_0/lifespan_29K_82sites_train/blr_metrics.csv')"
   ]
  },
  {
   "cell_type": "code",
   "execution_count": 9,
   "id": "b4f4c9ef-99ed-4120-9b57-769dcb77595b",
   "metadata": {},
   "outputs": [],
   "source": [
    "fold0['Label'] = fold0['eid']"
   ]
  },
  {
   "cell_type": "code",
   "execution_count": 10,
   "id": "f0941caf-fc1d-421c-99f8-7ea9c725bb5c",
   "metadata": {},
   "outputs": [],
   "source": [
    "fold0['Label'] = fold0['Label'].str.replace('_thickness','')"
   ]
  },
  {
   "cell_type": "code",
   "execution_count": 11,
   "id": "b2b5bcdf-8434-4d86-beef-42b0bb982797",
   "metadata": {},
   "outputs": [],
   "source": [
    "df_f0 = pd.merge(df3, fold0, how='right')"
   ]
  },
  {
   "cell_type": "code",
   "execution_count": 12,
   "id": "8212d217-0fae-43d5-ad32-eb2f28465d90",
   "metadata": {},
   "outputs": [],
   "source": [
    "df_f0['fold'] = 0"
   ]
  },
  {
   "cell_type": "code",
   "execution_count": 13,
   "id": "3a9f0b6d-5287-45e0-b996-3188b27d1ae2",
   "metadata": {},
   "outputs": [],
   "source": [
    "df_f0.to_csv('merged_fold0_FS_LUT.csv', index=False)"
   ]
  },
  {
   "cell_type": "code",
   "execution_count": 14,
   "id": "fb73bfd1-24cf-4ac4-a322-3d251b3959a4",
   "metadata": {},
   "outputs": [],
   "source": [
    "fold1 = pd.read_csv('../../Desktop/resampling/resample_1/lifespan_29K_82sites_train/blr_metrics.csv')"
   ]
  },
  {
   "cell_type": "code",
   "execution_count": 15,
   "id": "92727d4f-6cec-4b84-88d0-e0cb8832f425",
   "metadata": {},
   "outputs": [],
   "source": [
    "fold1['Label'] = fold1['eid']"
   ]
  },
  {
   "cell_type": "code",
   "execution_count": 16,
   "id": "2cd35a4f-a3bf-4131-b597-5d8f44ff3e07",
   "metadata": {},
   "outputs": [],
   "source": [
    "fold1['Label'] = fold1['Label'].str.replace('_thickness','')"
   ]
  },
  {
   "cell_type": "code",
   "execution_count": 17,
   "id": "9517e226-09ca-44d0-8b49-ee49946e28e5",
   "metadata": {},
   "outputs": [],
   "source": [
    "df_f1 = pd.merge(df3, fold1, how='right')"
   ]
  },
  {
   "cell_type": "code",
   "execution_count": 18,
   "id": "a9849afa-a2d3-4de8-9673-bef2db1bd62f",
   "metadata": {},
   "outputs": [],
   "source": [
    "df_f1['fold'] = 1"
   ]
  },
  {
   "cell_type": "code",
   "execution_count": 19,
   "id": "ca60eb21-d05c-4852-b8ad-bdaf3f79a1d8",
   "metadata": {},
   "outputs": [],
   "source": [
    "df_f1.to_csv('merged_fold1_FS_LUT.csv', index=False)"
   ]
  },
  {
   "cell_type": "code",
   "execution_count": 20,
   "id": "c07316e3-e3be-4438-9832-f7274927c81d",
   "metadata": {},
   "outputs": [],
   "source": [
    "fold2 = pd.read_csv('../../Desktop/resampling/resample_2/lifespan_29K_82sites_train/blr_metrics.csv')"
   ]
  },
  {
   "cell_type": "code",
   "execution_count": 21,
   "id": "3165b82d-c2d4-48d2-b7f9-2b3abf6dd387",
   "metadata": {},
   "outputs": [],
   "source": [
    "fold2['Label'] = fold2['eid']"
   ]
  },
  {
   "cell_type": "code",
   "execution_count": 22,
   "id": "8d9fe5a2-7a78-48fa-89dd-73dc3e49f4e1",
   "metadata": {},
   "outputs": [],
   "source": [
    "fold2['Label'] = fold2['Label'].str.replace('_thickness','')"
   ]
  },
  {
   "cell_type": "code",
   "execution_count": 23,
   "id": "d007c1b5-0c39-4da1-8f91-96d749309083",
   "metadata": {},
   "outputs": [],
   "source": [
    "df_f2 = pd.merge(df3, fold2, how='right')"
   ]
  },
  {
   "cell_type": "code",
   "execution_count": 24,
   "id": "e67e4c7b-16a3-4789-a828-4700fa20ebdc",
   "metadata": {},
   "outputs": [],
   "source": [
    "df_f2['fold'] = 2"
   ]
  },
  {
   "cell_type": "code",
   "execution_count": 25,
   "id": "af514a2d-b7ca-4c09-bce5-70016d6f4bc9",
   "metadata": {},
   "outputs": [],
   "source": [
    "df_f2.to_csv('merged_fold2_FS_LUT.csv', index=False)"
   ]
  },
  {
   "cell_type": "code",
   "execution_count": 26,
   "id": "306642bc-e046-49f2-8ccb-a01ba5fac2d8",
   "metadata": {},
   "outputs": [],
   "source": [
    "fold3 = pd.read_csv('../../Desktop/resampling/resample_3/lifespan_29K_82sites_train/blr_metrics.csv')"
   ]
  },
  {
   "cell_type": "code",
   "execution_count": 27,
   "id": "47dcb01a-e1d4-42ca-9c98-e7cc8d064a9c",
   "metadata": {},
   "outputs": [],
   "source": [
    "fold3['Label'] = fold3['eid']"
   ]
  },
  {
   "cell_type": "code",
   "execution_count": 28,
   "id": "5c0de26a-516b-4551-b102-03cb9a3891fe",
   "metadata": {},
   "outputs": [],
   "source": [
    "fold3['Label'] = fold3['Label'].str.replace('_thickness','')"
   ]
  },
  {
   "cell_type": "code",
   "execution_count": 29,
   "id": "e40a22d6-4c8d-4d54-998b-03d75f2e3c6e",
   "metadata": {},
   "outputs": [],
   "source": [
    "df_f3 = pd.merge(df3, fold3, how='right')"
   ]
  },
  {
   "cell_type": "code",
   "execution_count": 30,
   "id": "b8e0760c-f989-4892-9740-5c9393dd6e86",
   "metadata": {},
   "outputs": [],
   "source": [
    "df_f3['fold'] = 3"
   ]
  },
  {
   "cell_type": "code",
   "execution_count": 31,
   "id": "880c915b-e067-44bd-b18a-6f4a6edde9e2",
   "metadata": {},
   "outputs": [],
   "source": [
    "df_f3.to_csv('merged_fold3_FS_LUT.csv', index=False)"
   ]
  },
  {
   "cell_type": "code",
   "execution_count": 32,
   "id": "7b930091-6f4f-4805-8461-74383bbbe428",
   "metadata": {},
   "outputs": [],
   "source": [
    "fold4 = pd.read_csv('../../Desktop/resampling/resample_4/lifespan_29K_82sites_train/blr_metrics.csv')"
   ]
  },
  {
   "cell_type": "code",
   "execution_count": 33,
   "id": "143e4451-ab8c-4a63-90c8-f6ad99fe150a",
   "metadata": {},
   "outputs": [],
   "source": [
    "fold4['Label'] = fold4['eid']"
   ]
  },
  {
   "cell_type": "code",
   "execution_count": 34,
   "id": "14c0dd70-a1fd-40c2-a129-c42828eaa772",
   "metadata": {},
   "outputs": [],
   "source": [
    "fold4['Label'] = fold4['Label'].str.replace('_thickness','')"
   ]
  },
  {
   "cell_type": "code",
   "execution_count": 35,
   "id": "5600b81f-a75d-4bbf-b0fa-910cbf462897",
   "metadata": {},
   "outputs": [],
   "source": [
    "df_f4 = pd.merge(df3, fold4, how='right')"
   ]
  },
  {
   "cell_type": "code",
   "execution_count": 36,
   "id": "70a2bb10-3d13-4071-afed-c508a4845694",
   "metadata": {},
   "outputs": [],
   "source": [
    "df_f4['fold'] = 4"
   ]
  },
  {
   "cell_type": "code",
   "execution_count": 37,
   "id": "005f8644-981d-4c0b-b701-1cb2d42a376f",
   "metadata": {},
   "outputs": [],
   "source": [
    "df_f4.to_csv('merged_fold4_FS_LUT.csv', index=False)"
   ]
  },
  {
   "cell_type": "code",
   "execution_count": 38,
   "id": "fc855849-76d0-435c-bde4-fa57a93c02d7",
   "metadata": {},
   "outputs": [],
   "source": [
    "fold5 = pd.read_csv('../../Desktop/resampling/resample_5/lifespan_29K_82sites_train/blr_metrics.csv')"
   ]
  },
  {
   "cell_type": "code",
   "execution_count": 39,
   "id": "9e3f4395-56bf-4823-9c16-347e7f4fbe73",
   "metadata": {},
   "outputs": [],
   "source": [
    "fold5['Label'] = fold5['eid']"
   ]
  },
  {
   "cell_type": "code",
   "execution_count": 40,
   "id": "d58e5029-21ce-4f12-a844-ee5e24b0f662",
   "metadata": {},
   "outputs": [],
   "source": [
    "fold5['Label'] = fold5['Label'].str.replace('_thickness','')"
   ]
  },
  {
   "cell_type": "code",
   "execution_count": 41,
   "id": "30f5b08c-57db-4f5b-a034-4f636d5fcc7f",
   "metadata": {},
   "outputs": [],
   "source": [
    "df_f5 = pd.merge(df3, fold5, how='right')"
   ]
  },
  {
   "cell_type": "code",
   "execution_count": 42,
   "id": "2ac531bd-cd15-4cb2-97fe-0a77f02acfcc",
   "metadata": {},
   "outputs": [],
   "source": [
    "df_f5['fold'] = 5"
   ]
  },
  {
   "cell_type": "code",
   "execution_count": 43,
   "id": "c60f708c-4669-4643-8d4c-4af7d0cad624",
   "metadata": {},
   "outputs": [],
   "source": [
    "df_f5.to_csv('merged_fold5_FS_LUT.csv', index=False)"
   ]
  },
  {
   "cell_type": "code",
   "execution_count": 44,
   "id": "75da3e00-7e6d-47c0-a7d5-1972c1d61e3a",
   "metadata": {},
   "outputs": [],
   "source": [
    "fold6 = pd.read_csv('../../Desktop/resampling/resample_6/lifespan_29K_82sites_train/blr_metrics.csv')"
   ]
  },
  {
   "cell_type": "code",
   "execution_count": 45,
   "id": "8e63de88-1490-4a77-97c3-99e1e4fcd64f",
   "metadata": {},
   "outputs": [],
   "source": [
    "fold6['Label'] = fold6['eid']"
   ]
  },
  {
   "cell_type": "code",
   "execution_count": 46,
   "id": "8e57686b-fd7e-477d-b1df-083a8e164890",
   "metadata": {},
   "outputs": [],
   "source": [
    "fold6['Label'] = fold6['Label'].str.replace('_thickness','')"
   ]
  },
  {
   "cell_type": "code",
   "execution_count": 47,
   "id": "ab16012d-39ef-4275-b96c-0776975c81b6",
   "metadata": {},
   "outputs": [],
   "source": [
    "df_f6 = pd.merge(df3, fold6, how='right')"
   ]
  },
  {
   "cell_type": "code",
   "execution_count": 48,
   "id": "dc0f08b6-02a6-420c-b652-706a1b7796e0",
   "metadata": {},
   "outputs": [],
   "source": [
    "df_f6['fold'] = 6"
   ]
  },
  {
   "cell_type": "code",
   "execution_count": 49,
   "id": "dcbf73dc-977b-4d15-9f25-6cb377d0f4cd",
   "metadata": {},
   "outputs": [],
   "source": [
    "df_f6.to_csv('merged_fold6_FS_LUT.csv', index=False)"
   ]
  },
  {
   "cell_type": "code",
   "execution_count": 50,
   "id": "b0d82165-97dc-42ad-8817-691e7bcd4922",
   "metadata": {},
   "outputs": [],
   "source": [
    "fold7 = pd.read_csv('../../Desktop/resampling/resample_7/lifespan_29K_82sites_train/blr_metrics.csv')"
   ]
  },
  {
   "cell_type": "code",
   "execution_count": 51,
   "id": "354b57f0-c703-469a-88cf-b0005b93f4eb",
   "metadata": {},
   "outputs": [],
   "source": [
    "fold7['Label'] = fold7['eid']"
   ]
  },
  {
   "cell_type": "code",
   "execution_count": 52,
   "id": "9158a2d8-c22c-4d31-b13e-0a124673d295",
   "metadata": {},
   "outputs": [],
   "source": [
    "fold7['Label'] = fold7['Label'].str.replace('_thickness','')"
   ]
  },
  {
   "cell_type": "code",
   "execution_count": 53,
   "id": "d2ce8d62-389a-4069-b405-03f705af29f8",
   "metadata": {},
   "outputs": [],
   "source": [
    "df_f7 = pd.merge(df3, fold7, how='right')"
   ]
  },
  {
   "cell_type": "code",
   "execution_count": 54,
   "id": "a72ad23f-7379-462b-9f2d-a1ca427ba267",
   "metadata": {},
   "outputs": [],
   "source": [
    "df_f7['fold'] = 7"
   ]
  },
  {
   "cell_type": "code",
   "execution_count": 55,
   "id": "a37b4572-4233-4d87-99e5-d830755fa90c",
   "metadata": {},
   "outputs": [],
   "source": [
    "df_f7.to_csv('merged_fold7_FS_LUT.csv', index=False)"
   ]
  },
  {
   "cell_type": "code",
   "execution_count": 56,
   "id": "4a02e416-84cb-40cc-afc1-08a7417f80c9",
   "metadata": {},
   "outputs": [],
   "source": [
    "fold8 = pd.read_csv('../../Desktop/resampling/resample_8/lifespan_29K_82sites_train/blr_metrics.csv')"
   ]
  },
  {
   "cell_type": "code",
   "execution_count": 57,
   "id": "27e6a6d7-604e-4e78-9ec3-10de7542b478",
   "metadata": {},
   "outputs": [],
   "source": [
    "fold8['Label'] = fold8['eid']"
   ]
  },
  {
   "cell_type": "code",
   "execution_count": 58,
   "id": "4e9f9eb2-69ff-4e84-9c3c-14644a73c83d",
   "metadata": {},
   "outputs": [],
   "source": [
    "fold8['Label'] = fold8['Label'].str.replace('_thickness','')"
   ]
  },
  {
   "cell_type": "code",
   "execution_count": 59,
   "id": "4944c176-c800-4b4c-a0a7-e74be08f240d",
   "metadata": {},
   "outputs": [],
   "source": [
    "df_f8 = pd.merge(df3, fold8, how='right')"
   ]
  },
  {
   "cell_type": "code",
   "execution_count": 60,
   "id": "e9b07ba9-14b5-4e1e-b459-5f73f9139cce",
   "metadata": {},
   "outputs": [],
   "source": [
    "df_f8['fold'] = 8"
   ]
  },
  {
   "cell_type": "code",
   "execution_count": 61,
   "id": "fc5e1b9b-f909-4c38-a2d1-63cce6c40992",
   "metadata": {},
   "outputs": [],
   "source": [
    "df_f8.to_csv('merged_fold8_FS_LUT.csv', index=False)"
   ]
  },
  {
   "cell_type": "code",
   "execution_count": 62,
   "id": "bae2681c-5756-4ecb-85df-72eeefd1be96",
   "metadata": {},
   "outputs": [],
   "source": [
    "fold9 = pd.read_csv('../../Desktop/resampling/resample_9/lifespan_29K_82sites_train/blr_metrics.csv')"
   ]
  },
  {
   "cell_type": "code",
   "execution_count": 63,
   "id": "bcd4e934-65f7-4c4e-a5fb-9a30aedd0b5b",
   "metadata": {},
   "outputs": [],
   "source": [
    "fold9['Label'] = fold9['eid']"
   ]
  },
  {
   "cell_type": "code",
   "execution_count": 64,
   "id": "262c37fe-0349-4a85-a65e-5398c6188883",
   "metadata": {},
   "outputs": [],
   "source": [
    "fold9['Label'] = fold9['Label'].str.replace('_thickness','')"
   ]
  },
  {
   "cell_type": "code",
   "execution_count": 65,
   "id": "c07905b9-f8d8-43a0-a19b-d54a28c8a18a",
   "metadata": {},
   "outputs": [],
   "source": [
    "df_f9 = pd.merge(df3, fold9, how='right')"
   ]
  },
  {
   "cell_type": "code",
   "execution_count": 66,
   "id": "570974ce-44f1-46b4-b55a-3d98447480dd",
   "metadata": {},
   "outputs": [],
   "source": [
    "df_f9['fold'] = 9"
   ]
  },
  {
   "cell_type": "code",
   "execution_count": 67,
   "id": "682d9bbb-f58a-4699-a501-70a812769e68",
   "metadata": {},
   "outputs": [],
   "source": [
    "df_f9.to_csv('merged_fold9_FS_LUT.csv', index=False)"
   ]
  },
  {
   "cell_type": "code",
   "execution_count": 68,
   "id": "08652a09-0789-472f-b0b6-147807f2cb85",
   "metadata": {},
   "outputs": [],
   "source": [
    "df_f01 = pd.merge(df_f0, df_f1, how='outer')"
   ]
  },
  {
   "cell_type": "code",
   "execution_count": 69,
   "id": "c6c4e932-ed7e-4115-85ab-d06e0c89cc5d",
   "metadata": {},
   "outputs": [],
   "source": [
    "df_f012 = pd.merge(df_f01, df_f2, how='outer')"
   ]
  },
  {
   "cell_type": "code",
   "execution_count": 70,
   "id": "14cc2213-a915-487f-86e1-725fe17f5cd9",
   "metadata": {},
   "outputs": [],
   "source": [
    "df_f0123 = pd.merge(df_f012, df_f3, how='outer')"
   ]
  },
  {
   "cell_type": "code",
   "execution_count": 71,
   "id": "08b2c140-7ca1-4cc0-9489-5e2357d44a6e",
   "metadata": {},
   "outputs": [],
   "source": [
    "df_f01234 = pd.merge(df_f0123, df_f4, how='outer')"
   ]
  },
  {
   "cell_type": "code",
   "execution_count": 72,
   "id": "99353569-58b8-4690-8f0a-889d6482e9b7",
   "metadata": {},
   "outputs": [],
   "source": [
    "df_f012345 = pd.merge(df_f01234, df_f5, how='outer')"
   ]
  },
  {
   "cell_type": "code",
   "execution_count": 73,
   "id": "a94fd541-ae26-4b13-91e2-5016c01eac18",
   "metadata": {},
   "outputs": [],
   "source": [
    "df_f0123456 = pd.merge(df_f012345, df_f6, how='outer')"
   ]
  },
  {
   "cell_type": "code",
   "execution_count": 74,
   "id": "8aeac38f-433b-4c78-b6fc-f01b0a8c896d",
   "metadata": {},
   "outputs": [],
   "source": [
    "df_f01234567 = pd.merge(df_f0123456, df_f7, how='outer')"
   ]
  },
  {
   "cell_type": "code",
   "execution_count": 75,
   "id": "dbcaaa32-070a-4235-8601-6e01c9f8d9b5",
   "metadata": {},
   "outputs": [],
   "source": [
    "df_f012345678 = pd.merge(df_f01234567, df_f8, how='outer')"
   ]
  },
  {
   "cell_type": "code",
   "execution_count": 76,
   "id": "5b383cf2-26c7-4a77-a055-7fb1ace2780c",
   "metadata": {},
   "outputs": [],
   "source": [
    "df_folds = pd.merge(df_f012345678, df_f9, how='outer')"
   ]
  },
  {
   "cell_type": "code",
   "execution_count": 77,
   "id": "2d4d8a2c-86fe-4305-a0e9-1a111095f78f",
   "metadata": {},
   "outputs": [
    {
     "data": {
      "text/html": [
       "<div>\n",
       "<style scoped>\n",
       "    .dataframe tbody tr th:only-of-type {\n",
       "        vertical-align: middle;\n",
       "    }\n",
       "\n",
       "    .dataframe tbody tr th {\n",
       "        vertical-align: top;\n",
       "    }\n",
       "\n",
       "    .dataframe thead th {\n",
       "        text-align: right;\n",
       "    }\n",
       "</style>\n",
       "<table border=\"1\" class=\"dataframe\">\n",
       "  <thead>\n",
       "    <tr style=\"text-align: right;\">\n",
       "      <th></th>\n",
       "      <th>FS_LUT_ID</th>\n",
       "      <th>Label</th>\n",
       "      <th>R</th>\n",
       "      <th>A</th>\n",
       "      <th>S</th>\n",
       "      <th>Unnamed: 0</th>\n",
       "      <th>eid</th>\n",
       "      <th>NLL</th>\n",
       "      <th>EV</th>\n",
       "      <th>MSLL</th>\n",
       "      <th>BIC</th>\n",
       "      <th>Skew</th>\n",
       "      <th>Kurtosis</th>\n",
       "      <th>fold</th>\n",
       "    </tr>\n",
       "  </thead>\n",
       "  <tbody>\n",
       "    <tr>\n",
       "      <th>0</th>\n",
       "      <td>11101.0</td>\n",
       "      <td>lh_G&amp;S_frontomargin</td>\n",
       "      <td>-23.1251</td>\n",
       "      <td>56.7958</td>\n",
       "      <td>-8.8575</td>\n",
       "      <td>0</td>\n",
       "      <td>lh_G&amp;S_frontomargin_thickness</td>\n",
       "      <td>-8675.653711</td>\n",
       "      <td>0.271232</td>\n",
       "      <td>-0.155867</td>\n",
       "      <td>-17310.149974</td>\n",
       "      <td>0.071981</td>\n",
       "      <td>0.924867</td>\n",
       "      <td>0</td>\n",
       "    </tr>\n",
       "    <tr>\n",
       "      <th>1</th>\n",
       "      <td>11102.0</td>\n",
       "      <td>lh_G&amp;S_occipital_inf</td>\n",
       "      <td>-37.2018</td>\n",
       "      <td>-82.6295</td>\n",
       "      <td>-13.1777</td>\n",
       "      <td>1</td>\n",
       "      <td>lh_G&amp;S_occipital_inf_thickness</td>\n",
       "      <td>-8871.008901</td>\n",
       "      <td>0.210293</td>\n",
       "      <td>-0.112124</td>\n",
       "      <td>-17700.860354</td>\n",
       "      <td>0.100621</td>\n",
       "      <td>0.301626</td>\n",
       "      <td>0</td>\n",
       "    </tr>\n",
       "    <tr>\n",
       "      <th>2</th>\n",
       "      <td>11103.0</td>\n",
       "      <td>lh_G&amp;S_paracentral</td>\n",
       "      <td>-7.9944</td>\n",
       "      <td>-33.1159</td>\n",
       "      <td>67.3970</td>\n",
       "      <td>2</td>\n",
       "      <td>lh_G&amp;S_paracentral_thickness</td>\n",
       "      <td>-3113.336800</td>\n",
       "      <td>0.212148</td>\n",
       "      <td>-0.101665</td>\n",
       "      <td>-6185.516152</td>\n",
       "      <td>-0.047434</td>\n",
       "      <td>0.249057</td>\n",
       "      <td>0</td>\n",
       "    </tr>\n",
       "    <tr>\n",
       "      <th>3</th>\n",
       "      <td>11104.0</td>\n",
       "      <td>lh_G&amp;S_subcentral</td>\n",
       "      <td>-55.8942</td>\n",
       "      <td>-11.3545</td>\n",
       "      <td>14.5476</td>\n",
       "      <td>3</td>\n",
       "      <td>lh_G&amp;S_subcentral_thickness</td>\n",
       "      <td>-7402.457664</td>\n",
       "      <td>0.261246</td>\n",
       "      <td>-0.127148</td>\n",
       "      <td>-14763.758017</td>\n",
       "      <td>0.024151</td>\n",
       "      <td>0.353530</td>\n",
       "      <td>0</td>\n",
       "    </tr>\n",
       "    <tr>\n",
       "      <th>4</th>\n",
       "      <td>11105.0</td>\n",
       "      <td>lh_G&amp;S_transv_frontopol</td>\n",
       "      <td>-14.2706</td>\n",
       "      <td>63.5673</td>\n",
       "      <td>-0.6889</td>\n",
       "      <td>4</td>\n",
       "      <td>lh_G&amp;S_transv_frontopol_thickness</td>\n",
       "      <td>-2560.961006</td>\n",
       "      <td>0.254490</td>\n",
       "      <td>-0.125998</td>\n",
       "      <td>-5080.764564</td>\n",
       "      <td>0.203348</td>\n",
       "      <td>1.094409</td>\n",
       "      <td>0</td>\n",
       "    </tr>\n",
       "    <tr>\n",
       "      <th>...</th>\n",
       "      <td>...</td>\n",
       "      <td>...</td>\n",
       "      <td>...</td>\n",
       "      <td>...</td>\n",
       "      <td>...</td>\n",
       "      <td>...</td>\n",
       "      <td>...</td>\n",
       "      <td>...</td>\n",
       "      <td>...</td>\n",
       "      <td>...</td>\n",
       "      <td>...</td>\n",
       "      <td>...</td>\n",
       "      <td>...</td>\n",
       "      <td>...</td>\n",
       "    </tr>\n",
       "    <tr>\n",
       "      <th>1875</th>\n",
       "      <td>NaN</td>\n",
       "      <td>TotalGrayVol</td>\n",
       "      <td>NaN</td>\n",
       "      <td>NaN</td>\n",
       "      <td>NaN</td>\n",
       "      <td>183</td>\n",
       "      <td>TotalGrayVol</td>\n",
       "      <td>349724.275166</td>\n",
       "      <td>0.603697</td>\n",
       "      <td>-0.454440</td>\n",
       "      <td>699489.578442</td>\n",
       "      <td>-0.181360</td>\n",
       "      <td>1.673801</td>\n",
       "      <td>9</td>\n",
       "    </tr>\n",
       "    <tr>\n",
       "      <th>1876</th>\n",
       "      <td>NaN</td>\n",
       "      <td>SupraTentorialVol</td>\n",
       "      <td>NaN</td>\n",
       "      <td>NaN</td>\n",
       "      <td>NaN</td>\n",
       "      <td>184</td>\n",
       "      <td>SupraTentorialVol</td>\n",
       "      <td>365492.342044</td>\n",
       "      <td>0.348745</td>\n",
       "      <td>-0.212991</td>\n",
       "      <td>731025.712197</td>\n",
       "      <td>-0.021651</td>\n",
       "      <td>0.564900</td>\n",
       "      <td>9</td>\n",
       "    </tr>\n",
       "    <tr>\n",
       "      <th>1877</th>\n",
       "      <td>NaN</td>\n",
       "      <td>SupraTentorialVolNotVent</td>\n",
       "      <td>NaN</td>\n",
       "      <td>NaN</td>\n",
       "      <td>NaN</td>\n",
       "      <td>185</td>\n",
       "      <td>SupraTentorialVolNotVent</td>\n",
       "      <td>364646.422725</td>\n",
       "      <td>0.367461</td>\n",
       "      <td>-0.228434</td>\n",
       "      <td>729333.873560</td>\n",
       "      <td>-0.042658</td>\n",
       "      <td>0.566953</td>\n",
       "      <td>9</td>\n",
       "    </tr>\n",
       "    <tr>\n",
       "      <th>1878</th>\n",
       "      <td>NaN</td>\n",
       "      <td>avg</td>\n",
       "      <td>NaN</td>\n",
       "      <td>NaN</td>\n",
       "      <td>NaN</td>\n",
       "      <td>186</td>\n",
       "      <td>avg_thickness</td>\n",
       "      <td>-24972.475888</td>\n",
       "      <td>0.490255</td>\n",
       "      <td>-0.319301</td>\n",
       "      <td>-49903.923946</td>\n",
       "      <td>-0.199976</td>\n",
       "      <td>0.620147</td>\n",
       "      <td>9</td>\n",
       "    </tr>\n",
       "    <tr>\n",
       "      <th>1879</th>\n",
       "      <td>NaN</td>\n",
       "      <td>EstimatedTotalIntraCranialVol</td>\n",
       "      <td>NaN</td>\n",
       "      <td>NaN</td>\n",
       "      <td>NaN</td>\n",
       "      <td>187</td>\n",
       "      <td>EstimatedTotalIntraCranialVol</td>\n",
       "      <td>377099.490932</td>\n",
       "      <td>0.324251</td>\n",
       "      <td>-0.192140</td>\n",
       "      <td>754240.009974</td>\n",
       "      <td>-0.384756</td>\n",
       "      <td>2.170184</td>\n",
       "      <td>9</td>\n",
       "    </tr>\n",
       "  </tbody>\n",
       "</table>\n",
       "<p>1880 rows × 14 columns</p>\n",
       "</div>"
      ],
      "text/plain": [
       "      FS_LUT_ID                          Label        R        A        S  \\\n",
       "0       11101.0            lh_G&S_frontomargin -23.1251  56.7958  -8.8575   \n",
       "1       11102.0           lh_G&S_occipital_inf -37.2018 -82.6295 -13.1777   \n",
       "2       11103.0             lh_G&S_paracentral  -7.9944 -33.1159  67.3970   \n",
       "3       11104.0              lh_G&S_subcentral -55.8942 -11.3545  14.5476   \n",
       "4       11105.0        lh_G&S_transv_frontopol -14.2706  63.5673  -0.6889   \n",
       "...         ...                            ...      ...      ...      ...   \n",
       "1875        NaN                   TotalGrayVol      NaN      NaN      NaN   \n",
       "1876        NaN              SupraTentorialVol      NaN      NaN      NaN   \n",
       "1877        NaN       SupraTentorialVolNotVent      NaN      NaN      NaN   \n",
       "1878        NaN                            avg      NaN      NaN      NaN   \n",
       "1879        NaN  EstimatedTotalIntraCranialVol      NaN      NaN      NaN   \n",
       "\n",
       "      Unnamed: 0                                eid            NLL        EV  \\\n",
       "0              0      lh_G&S_frontomargin_thickness   -8675.653711  0.271232   \n",
       "1              1     lh_G&S_occipital_inf_thickness   -8871.008901  0.210293   \n",
       "2              2       lh_G&S_paracentral_thickness   -3113.336800  0.212148   \n",
       "3              3        lh_G&S_subcentral_thickness   -7402.457664  0.261246   \n",
       "4              4  lh_G&S_transv_frontopol_thickness   -2560.961006  0.254490   \n",
       "...          ...                                ...            ...       ...   \n",
       "1875         183                       TotalGrayVol  349724.275166  0.603697   \n",
       "1876         184                  SupraTentorialVol  365492.342044  0.348745   \n",
       "1877         185           SupraTentorialVolNotVent  364646.422725  0.367461   \n",
       "1878         186                      avg_thickness  -24972.475888  0.490255   \n",
       "1879         187      EstimatedTotalIntraCranialVol  377099.490932  0.324251   \n",
       "\n",
       "          MSLL            BIC      Skew  Kurtosis  fold  \n",
       "0    -0.155867  -17310.149974  0.071981  0.924867     0  \n",
       "1    -0.112124  -17700.860354  0.100621  0.301626     0  \n",
       "2    -0.101665   -6185.516152 -0.047434  0.249057     0  \n",
       "3    -0.127148  -14763.758017  0.024151  0.353530     0  \n",
       "4    -0.125998   -5080.764564  0.203348  1.094409     0  \n",
       "...        ...            ...       ...       ...   ...  \n",
       "1875 -0.454440  699489.578442 -0.181360  1.673801     9  \n",
       "1876 -0.212991  731025.712197 -0.021651  0.564900     9  \n",
       "1877 -0.228434  729333.873560 -0.042658  0.566953     9  \n",
       "1878 -0.319301  -49903.923946 -0.199976  0.620147     9  \n",
       "1879 -0.192140  754240.009974 -0.384756  2.170184     9  \n",
       "\n",
       "[1880 rows x 14 columns]"
      ]
     },
     "execution_count": 77,
     "metadata": {},
     "output_type": "execute_result"
    }
   ],
   "source": [
    "df_folds"
   ]
  },
  {
   "cell_type": "code",
   "execution_count": 78,
   "id": "684f3abf-b31c-4a88-9162-46ebfd0aa560",
   "metadata": {},
   "outputs": [],
   "source": [
    "import seaborn as sns"
   ]
  },
  {
   "cell_type": "code",
   "execution_count": 79,
   "id": "f1a5a8c2-8f78-411f-85f8-6b8652972d2e",
   "metadata": {},
   "outputs": [],
   "source": [
    "df_folds_EVsort = df_folds.sort_values(by=['EV'])"
   ]
  },
  {
   "cell_type": "code",
   "execution_count": 80,
   "id": "f6eaf292-0fab-4bdb-90ea-f7e880c051b6",
   "metadata": {},
   "outputs": [],
   "source": [
    "df_folds_MSLLsort = df_folds.sort_values(by=['MSLL'])"
   ]
  },
  {
   "cell_type": "code",
   "execution_count": 81,
   "id": "348e6f7a-a927-40fe-a61d-e92c16159789",
   "metadata": {},
   "outputs": [],
   "source": [
    "df_folds_Skewsort = df_folds.sort_values(by=['Skew'])"
   ]
  },
  {
   "cell_type": "code",
   "execution_count": 82,
   "id": "1239d94b-6aa3-4f80-862f-9de2d83f7faa",
   "metadata": {},
   "outputs": [],
   "source": [
    "df_folds_Kurtosissort = df_folds.sort_values(by=['Kurtosis'])"
   ]
  },
  {
   "cell_type": "code",
   "execution_count": 83,
   "id": "b644d2f6-b607-47ac-8ae6-590ad32fb07b",
   "metadata": {},
   "outputs": [],
   "source": [
    "df_folds['IMG_URL'] = \"https://raw.githubusercontent.com/saigerutherford/main/3dbrainplot/ROI_img/\" + df_folds['Label'] + \".png\""
   ]
  },
  {
   "cell_type": "code",
   "execution_count": 84,
   "id": "d154271e-bcd5-408b-9062-b59d725982b8",
   "metadata": {},
   "outputs": [],
   "source": [
    "df_folds.to_csv('cross_validation_10fold_evaluation.csv', index=False)"
   ]
  },
  {
   "cell_type": "code",
   "execution_count": null,
   "id": "d2cdaac6-c535-43b1-bfb1-3dcf933a69a5",
   "metadata": {},
   "outputs": [],
   "source": [
    "sns.set(font_scale=0.7)\n",
    "sns.set_theme(style=\"whitegrid\")\n",
    "fig, ax = plt.subplots(figsize=(32, 10))\n",
    "sns.scatterplot(data=df_folds_Kurtosissort, x=\"Label\", y=\"Kurtosis\", ax=ax)\n",
    "plt.xticks(rotation = 90)\n",
    "ax.set_xlabel(\"\")\n",
    "ax.set_ylabel(\"Kurtosis\")\n",
    "plt.show()"
   ]
  },
  {
   "cell_type": "code",
   "execution_count": null,
   "id": "cc469858-f7a9-4317-a4a0-90105c2cd582",
   "metadata": {},
   "outputs": [],
   "source": [
    "sns.set(font_scale=0.8)\n",
    "sns.set_theme(style=\"whitegrid\")\n",
    "fig, ax = plt.subplots(figsize=(32, 10))\n",
    "sns.scatterplot(data=df_folds_Skewsort, x=\"Label\", y=\"Skew\", ax=ax)\n",
    "plt.xticks(rotation = 90)\n",
    "ax.set_xlabel(\"\")\n",
    "ax.set_ylabel(\"Skew\")\n",
    "plt.show()"
   ]
  },
  {
   "cell_type": "code",
   "execution_count": null,
   "id": "9f8c5d64-d692-4ced-b257-03919815fcfb",
   "metadata": {},
   "outputs": [],
   "source": [
    "sns.set(font_scale=0.8)\n",
    "sns.set_theme(style=\"whitegrid\")\n",
    "fig, ax = plt.subplots(figsize=(32, 10))\n",
    "sns.scatterplot(data=df_folds_MSLLsort, x=\"Label\", y=\"MSLL\", ax=ax)\n",
    "plt.xticks(rotation = 90)\n",
    "ax.set_xlabel(\"\")\n",
    "ax.set_ylabel(\"Mean Standardized Log Loss\")\n",
    "plt.show()"
   ]
  },
  {
   "cell_type": "code",
   "execution_count": null,
   "id": "8ef447b1-3bad-4fe3-a734-20c50f0499f5",
   "metadata": {},
   "outputs": [],
   "source": [
    "sns.set(font_scale=0.8)\n",
    "sns.set_theme(style=\"whitegrid\")\n",
    "fig, ax = plt.subplots(figsize=(32, 10))\n",
    "sns.scatterplot(data=df_folds_EVsort, x=\"Label\", y=\"EV\", ax=ax)\n",
    "plt.xticks(rotation = 90)\n",
    "ax.set_xlabel(\"\")\n",
    "ax.set_ylabel(\"Explained Variance\")\n",
    "plt.show()"
   ]
  }
 ],
 "metadata": {
  "kernelspec": {
   "display_name": "Python 3 (ipykernel)",
   "language": "python",
   "name": "python3"
  },
  "language_info": {
   "codemirror_mode": {
    "name": "ipython",
    "version": 3
   },
   "file_extension": ".py",
   "mimetype": "text/x-python",
   "name": "python",
   "nbconvert_exporter": "python",
   "pygments_lexer": "ipython3",
   "version": "3.9.7"
  }
 },
 "nbformat": 4,
 "nbformat_minor": 5
}
